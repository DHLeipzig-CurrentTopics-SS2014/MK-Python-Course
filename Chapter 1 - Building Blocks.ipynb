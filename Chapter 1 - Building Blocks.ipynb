{
 "metadata": {
  "name": "Chapter 1 - Building Blocks"
 },
 "nbformat": 3,
 "nbformat_minor": 0,
 "worksheets": [
  {
   "cells": [
    {
     "cell_type": "heading",
     "level": 1,
     "metadata": {},
     "source": [
      "Chapter 1: Building Blocks"
     ]
    },
    {
     "cell_type": "markdown",
     "metadata": {},
     "source": [
      "-- *A Python Course for the Humanities by Folgert Karsdorp and Maarten van Gompel, with modifications by Mike Kestemont and Lars Wieneke*"
     ]
    },
    {
     "cell_type": "markdown",
     "metadata": {},
     "source": [
      "-------------------------------"
     ]
    },
    {
     "cell_type": "heading",
     "level": 2,
     "metadata": {},
     "source": [
      "Variables"
     ]
    },
    {
     "cell_type": "markdown",
     "metadata": {},
     "source": [
      "Everyone can learn how to program and the best way to learn this is by doing it. This tutorial on the Python programming language for people from the Humanities is extremely hands-on: you will have to write a lot of programming code yourself from the very beginning onwards. For writing the Python code in this tutorial, you can use the many 'code blocks' you will encounter, such as the grey block immediately below. Place your cursor inside this block and press ctrl+enter to \"run\" or execute the code. Let's begin right away: run your first little program!"
     ]
    },
    {
     "cell_type": "code",
     "collapsed": false,
     "input": [
      "print(\"Ready, set, GO!\")"
     ],
     "language": "python",
     "metadata": {},
     "outputs": [
      {
       "output_type": "stream",
       "stream": "stdout",
       "text": [
        "Ready, set, GO!\n"
       ]
      }
     ],
     "prompt_number": 1
    },
    {
     "cell_type": "markdown",
     "metadata": {},
     "source": [
      "Can you describe what this code did? Can you adapt the code in this box yourself and make it print your own name?\n",
      "\n",
      "Except from printing words to your screen, you can of course also use Python to do smarter things, like calculations. Could you for instance use the code block below to try and write a simple program that calculates how many minutes there are in seven weeks? (Hint: multiplication is done using the `*` symbol in Python.)"
     ]
    },
    {
     "cell_type": "code",
     "collapsed": false,
     "input": [
      "# remove this line and insert your own code here!\n",
      "60*24*7*7"
     ],
     "language": "python",
     "metadata": {},
     "outputs": [
      {
       "output_type": "pyout",
       "prompt_number": 2,
       "text": [
        "70560"
       ]
      }
     ],
     "prompt_number": 2
    },
    {
     "cell_type": "markdown",
     "metadata": {},
     "source": [
      "Excellent! You have just written and executed your very first program! Please make sure to run *every single one* of the code blocks below in the same manner -- otherwise a lot of the examples won't properly work.\n",
      "\n",
      "Python can be used as a plain calculator but, of course, it can do much more for you. Suppose, for instance, that we would like to keep the number we just calculated on our machine. That way, we don't have to re-calculate it every time we need it. We can do this via 'assigning' this value to a variable, using the `=` symbol. This is exactly what will happen when you run the code in the block below:"
     ]
    },
    {
     "cell_type": "code",
     "collapsed": false,
     "input": [
      "x = 70560\n",
      "print(x)"
     ],
     "language": "python",
     "metadata": {},
     "outputs": [
      {
       "output_type": "stream",
       "stream": "stdout",
       "text": [
        "70560\n"
       ]
      }
     ],
     "prompt_number": 4
    },
    {
     "cell_type": "markdown",
     "metadata": {},
     "source": [
      "In the code block above, two things happen. First, we put a value (e.g. `2`) in `x`, a box on which we write an `x` with a thick, black marker. We then print the contents of this box, using the `print()` command. Now copy the outcome of your code calculating the number of minutes in seven weeks and assign this number to `x`. Run the code again.\n",
      "\n",
      "You can think of a variable as a box: in this box you can put whatever value you want, e.g. the number of minutes in seven weeks. When you re-assign a variable, you simply remove the content of the box and you put something new in it. In Python, the term 'variable' refers to such a box, whereas the term 'value' refers to what is inside this box."
     ]
    },
    {
     "cell_type": "markdown",
     "metadata": {},
     "source": [
      "When we have stored values inside variables, we can do interestings things with these variables. You can for instance run the calculations in the block below to see the effect of the following five lines of code. Symbols like `=`, `+`, `-` and `*` are called 'operators' in programming: they all provide a very basic functionality such as assigning values to variables or doing multiplication and subtraction.  "
     ]
    },
    {
     "cell_type": "code",
     "collapsed": false,
     "input": [
      "x = 2\n",
      "print(x)\n",
      "print(x * x)\n",
      "print(x + x)\n",
      "print(x - 6)"
     ],
     "language": "python",
     "metadata": {},
     "outputs": [
      {
       "output_type": "stream",
       "stream": "stdout",
       "text": [
        "2\n",
        "4\n",
        "4\n",
        "-4\n"
       ]
      }
     ],
     "prompt_number": 5
    },
    {
     "cell_type": "markdown",
     "metadata": {},
     "source": [
      "So far, we have used only a variable called `x`. Nevertheless, we are entirely free to change the names of our variables, as long as these names do not contain strange characters, such as spaces, numbers or punctuation marks. (Underscores, however, are allowed inside names!) In the following block, we assign the outcome of our calculation to a variable that has a more meaningful name than the abstract name `x`."
     ]
    },
    {
     "cell_type": "code",
     "collapsed": false,
     "input": [
      "seconds_in_seven_weeks = 70560\n",
      "print(seconds_in_seven_weeks)"
     ],
     "language": "python",
     "metadata": {},
     "outputs": [
      {
       "output_type": "stream",
       "stream": "stdout",
       "text": [
        "70560\n"
       ]
      }
     ],
     "prompt_number": 6
    },
    {
     "cell_type": "markdown",
     "metadata": {},
     "source": [
      "In Python we can also copy a variable *into another variable*, which is what happens in the block below. You should of course watch out in such cases: make sure that you keep track of the value of each individual variable in your code. Each variable will always contain the value that you *last* assigned to it:"
     ]
    },
    {
     "cell_type": "code",
     "collapsed": false,
     "input": [
      "first_number = 5\n",
      "second_number = first_number\n",
      "first_number = 3\n",
      "print(first_number)\n",
      "print(second_number)"
     ],
     "language": "python",
     "metadata": {},
     "outputs": [
      {
       "output_type": "stream",
       "stream": "stdout",
       "text": [
        "3\n",
        "5\n"
       ]
      }
     ],
     "prompt_number": 15
    },
    {
     "cell_type": "markdown",
     "metadata": {},
     "source": [
      "Remember: as with boxes in real life, it is always a good idea to give the box a clear and short name, with your black marker -- the name should accurately reflect what is inside the box. Just like you don't write `cookies` on a box that in reality contains bananas, it is important to always give your Python variables a sensible name. In the code block below, for instance, we make the stupid mistake of calling a variable `months`, while it actually contains `seconds`..."
     ]
    },
    {
     "cell_type": "code",
     "collapsed": false,
     "input": [
      "# not recommended...\n",
      "months = 70560\n",
      "print(months)"
     ],
     "language": "python",
     "metadata": {},
     "outputs": [
      {
       "output_type": "stream",
       "stream": "stdout",
       "text": [
        "70560\n"
       ]
      }
     ],
     "prompt_number": 7
    },
    {
     "cell_type": "markdown",
     "metadata": {},
     "source": [
      "So far we have only assigned numbers such as `2` or `70560` to our variables. Such whole numbers are called 'integers' in programming, because they don't have anymore digits 'after the dot'.  Numbers that *do* have digits after the dot (e.g. `67.278` or `191.200`), are called 'floating-point numbers' in programming or simply 'floats'. Note that Python uses dots in floats, whereas some European languages use a comma here. Both integers and floats can be positive numbers (e.g. `70` or `4.36`) as well as negative numbers (e.g. `-70` or `4.36`). You can just as easily assign floats to variables:"
     ]
    },
    {
     "cell_type": "code",
     "collapsed": false,
     "input": [
      "some_float = 23.987\n",
      "print(some_float)\n",
      "some_float = -4.56\n",
      "print(some_float)"
     ],
     "language": "python",
     "metadata": {},
     "outputs": [
      {
       "output_type": "stream",
       "stream": "stdout",
       "text": [
        "23.987\n",
        "-4.56\n"
       ]
      }
     ],
     "prompt_number": 14
    },
    {
     "cell_type": "markdown",
     "metadata": {},
     "source": [
      "On the whole, the difference between integers and floats is of course important for divisions where you often end up with floats:"
     ]
    },
    {
     "cell_type": "code",
     "collapsed": false,
     "input": [
      "x = 4/2\n",
      "print(x)"
     ],
     "language": "python",
     "metadata": {},
     "outputs": [
      {
       "output_type": "stream",
       "stream": "stdout",
       "text": [
        "2.0\n"
       ]
      }
     ],
     "prompt_number": 8
    },
    {
     "cell_type": "markdown",
     "metadata": {},
     "source": [
      "Using the operators we have learned about above, we can change the variables in our code as many times as we want. We can assign new values to old variables, just like we can put new or more things in the boxes which we already had. Say, for instance, that yesterday we counted how many books we have in our office and that we stored this count in our code as follows:"
     ]
    },
    {
     "cell_type": "code",
     "collapsed": false,
     "input": [
      "number_of_books = 100"
     ],
     "language": "python",
     "metadata": {},
     "outputs": [],
     "prompt_number": 10
    },
    {
     "cell_type": "markdown",
     "metadata": {},
     "source": [
      "Suppose that we buy a new book for the office today: we can now update our book count accordingly, by adding one to our previous count:"
     ]
    },
    {
     "cell_type": "code",
     "collapsed": false,
     "input": [
      "number_of_books = number_of_books + 1\n",
      "print(number_of_books)"
     ],
     "language": "python",
     "metadata": {},
     "outputs": [
      {
       "output_type": "stream",
       "stream": "stdout",
       "text": [
        "101\n"
       ]
      }
     ],
     "prompt_number": 11
    },
    {
     "cell_type": "markdown",
     "metadata": {},
     "source": [
      "Updates like these happen a lot. Python therefore provides a shortcut and you can write the same thing using `+=`."
     ]
    },
    {
     "cell_type": "code",
     "collapsed": false,
     "input": [
      "number_of_books += 5\n",
      "print(number_of_books)"
     ],
     "language": "python",
     "metadata": {},
     "outputs": [
      {
       "output_type": "stream",
       "stream": "stdout",
       "text": [
        "106\n"
       ]
      }
     ],
     "prompt_number": 12
    },
    {
     "cell_type": "markdown",
     "metadata": {},
     "source": [
      "This special shortcut (`+=`) is called an operator too. Apart from multiplication (`+=`), the operator has variants for subtraction (`-=`), multiplication (`*=`) and division (`/=`) too:"
     ]
    },
    {
     "cell_type": "code",
     "collapsed": false,
     "input": [
      "number_of_books -= 5\n",
      "print(number_of_books)\n",
      "number_of_books *= 2\n",
      "print(number_of_books)\n",
      "number_of_books /= 2\n",
      "print(number_of_books)"
     ],
     "language": "python",
     "metadata": {},
     "outputs": [
      {
       "output_type": "stream",
       "stream": "stdout",
       "text": [
        "101\n",
        "202\n",
        "101.0\n"
       ]
      }
     ],
     "prompt_number": 13
    },
    {
     "cell_type": "markdown",
     "metadata": {},
     "source": [
      "----------"
     ]
    },
    {
     "cell_type": "heading",
     "level": 4,
     "metadata": {},
     "source": [
      "Exercices"
     ]
    },
    {
     "cell_type": "markdown",
     "metadata": {},
     "source": [
      "Exercices"
     ]
    },
    {
     "cell_type": "code",
     "collapsed": false,
     "input": [
      "# insert your code here"
     ],
     "language": "python",
     "metadata": {},
     "outputs": []
    },
    {
     "cell_type": "markdown",
     "metadata": {},
     "source": [
      "--------------"
     ]
    },
    {
     "cell_type": "heading",
     "level": 5,
     "metadata": {},
     "source": [
      "What we have learnt"
     ]
    },
    {
     "cell_type": "markdown",
     "metadata": {},
     "source": [
      "To finish this section, here is an overview of the concepts you have learnt. Go through the list and make sure you understand all the concepts.\n",
      "\n",
      "-  variable\n",
      "-  value\n",
      "-  assignment operator (`=`)\n",
      "-  difference between variables and values\n",
      "-  integers vs. floats\n",
      "-  operators for multiplication (`*`), subtraction (`-`), addition (`+`), division (`/`)\n",
      "-  the shortcut operators: `+=`, `-=`, `*=`, `/=`\n",
      "-  `print()`\n"
     ]
    },
    {
     "cell_type": "markdown",
     "metadata": {},
     "source": [
      "------"
     ]
    },
    {
     "cell_type": "heading",
     "level": 2,
     "metadata": {},
     "source": [
      "Text strings"
     ]
    },
    {
     "cell_type": "markdown",
     "metadata": {},
     "source": [
      "So far, we have only worked with variables that contain numbers (integers like `-5` or `72` or floats like `45.89` or `-5.609`). Note, however, that variables can also contain other things than numbers. Many disciplines within the humanities work on texts. Quite naturally, programming skills for the humanities will have to focus a lot on manipulating texts. Have a look at the code block below, for instance. Here we put *text*, namely the title of a book, as a value inside the variable `book`. Then, we print what is inside the `book` variable."
     ]
    },
    {
     "cell_type": "code",
     "collapsed": false,
     "input": [
      "book = \"The Lord of the Flies\"\n",
      "print(book)"
     ],
     "language": "python",
     "metadata": {},
     "outputs": [
      {
       "output_type": "stream",
       "stream": "stdout",
       "text": [
        "The Lord of the Flies\n"
       ]
      }
     ],
     "prompt_number": 5
    },
    {
     "cell_type": "markdown",
     "metadata": {},
     "source": [
      "Such a piece of text (\"The Lord of the Flies\") is called a 'string' in Python (cf. a string of characters). Strings in Python must always be enclosed with 'quotes' (either single or double quotes). Without those quotes, Python will think it's dealing with the name of some variable that has been defined earlier, because variable names never take quotes. The following distinction is confusing but extremely important: variable names (*without* quotes) and string values (*with* quotes) look similar, but they serve a completely different purpose. Compare:"
     ]
    },
    {
     "cell_type": "code",
     "collapsed": false,
     "input": [
      "name = \"Bonny\"\n",
      "Bonny = \"name\"\n",
      "Clyde = \"Clyde\"\n",
      "print(name)\n",
      "print (Bonny)\n",
      "print(Clyde)"
     ],
     "language": "python",
     "metadata": {},
     "outputs": [
      {
       "output_type": "stream",
       "stream": "stdout",
       "text": [
        "Bonny\n",
        "name\n",
        "Clyde\n"
       ]
      }
     ],
     "prompt_number": 14
    },
    {
     "cell_type": "markdown",
     "metadata": {},
     "source": [
      "Some of the arithmetic operators we saw earlier can also be used to do useful things with strings. Both the multiplication operator (`*`) and the addition operator (`+`) provide interesting functionality for dealing with strings, as the block below illustrates.\n"
     ]
    },
    {
     "cell_type": "code",
     "collapsed": false,
     "input": [
      "original_string = \"bla\"\n",
      "new_string = 2*original_string\n",
      "print(new_string)\n",
      "new_string = new_string+\"h\"\n",
      "print(new_string)"
     ],
     "language": "python",
     "metadata": {},
     "outputs": [
      {
       "output_type": "stream",
       "stream": "stdout",
       "text": [
        "blabla\n",
        "blablah\n"
       ]
      }
     ],
     "prompt_number": 25
    },
    {
     "cell_type": "markdown",
     "metadata": {},
     "source": [
      "Adding strings together is called 'string concatenation' or simply 'concatenation' in programming. Use the block below to find out whether you could can also use the shortcut `+=` operator for adding an 'h' to the variable `original_string`. Don't forget to check the result by printing it!"
     ]
    },
    {
     "cell_type": "code",
     "collapsed": false,
     "input": [
      "original_string = \"blabla\"\n",
      "# add an 'h'.."
     ],
     "language": "python",
     "metadata": {},
     "outputs": []
    },
    {
     "cell_type": "markdown",
     "metadata": {},
     "source": [
      "We now would like you to write some code that defines a variable, `name`, and assign to it a string that is your name. If your first name is shorter than 5 characters, use your last name. If your last name is also shorted than 5 characters, use the combination of you first and last name. Now print the variable containing your name to the screen."
     ]
    },
    {
     "cell_type": "code",
     "collapsed": false,
     "input": [
      "name = \"Kestemont\"\n",
      "print(name)"
     ],
     "language": "python",
     "metadata": {},
     "outputs": [
      {
       "output_type": "stream",
       "stream": "stdout",
       "text": [
        "Kestemont\n"
       ]
      }
     ],
     "prompt_number": 15
    },
    {
     "cell_type": "markdown",
     "metadata": {},
     "source": [
      "Strings are called strings because they consist of a series (or 'string') of individual characters. We can access these individual characters in Python with the help of 'indexing', because each character in a string has a unique index. To print the first letter of your name, you can type:"
     ]
    },
    {
     "cell_type": "code",
     "collapsed": false,
     "input": [
      "first_letter = name[0]\n",
      "print(first_letter)"
     ],
     "language": "python",
     "metadata": {},
     "outputs": []
    },
    {
     "cell_type": "markdown",
     "metadata": {},
     "source": [
      "Note that we use the index `0` to access to first character in a string. This might seem odd, but just remember that all indexes in Python start at zero. Whenever you count in Python, you start at `0` instead of `1`. This is something you will have to get used to!\n",
      "\n",
      "Because you know the length of your name you can ask for the last letter of your name: "
     ]
    },
    {
     "cell_type": "code",
     "collapsed": false,
     "input": [
      "last_letter = name[# fill in the last index of your name (tip indexes start at 0)]\n",
      "print(last_letter)"
     ],
     "language": "python",
     "metadata": {},
     "outputs": []
    },
    {
     "cell_type": "markdown",
     "metadata": {},
     "source": [
      "It is rather inconvenient having to know how long our strings are if we want to find out what its last letter is. Python provides a simple way of accessing a string 'from the rear':"
     ]
    },
    {
     "cell_type": "code",
     "collapsed": false,
     "input": [
      "last_letter = name[-1]\n",
      "print(last_letter)"
     ],
     "language": "python",
     "metadata": {},
     "outputs": []
    },
    {
     "cell_type": "markdown",
     "metadata": {},
     "source": [
      "Note that -- to make the confusion complete -- you can *not* access the last character in a string via the index '-0' but that you have to use [-1]. Alternatively, there is the `len()` command which returns the length of a string:"
     ]
    },
    {
     "cell_type": "code",
     "collapsed": false,
     "input": [
      "print(len(name))"
     ],
     "language": "python",
     "metadata": {},
     "outputs": []
    },
    {
     "cell_type": "markdown",
     "metadata": {},
     "source": [
      "Do you understand the following code block? Can you explain what is happening?"
     ]
    },
    {
     "cell_type": "code",
     "collapsed": false,
     "input": [
      "print(name[len(name)-1])"
     ],
     "language": "python",
     "metadata": {},
     "outputs": []
    },
    {
     "cell_type": "markdown",
     "metadata": {},
     "source": [
      "Now can you write some code that defines a variable `but_last_letter` and assigns to this variable the *one but last* letter of your name?"
     ]
    },
    {
     "cell_type": "code",
     "collapsed": false,
     "input": [
      "but_last_letter = name[-2]# insert your code here\n",
      "print(but_last_letter)"
     ],
     "language": "python",
     "metadata": {},
     "outputs": [
      {
       "output_type": "stream",
       "stream": "stdout",
       "text": [
        "n\n"
       ]
      }
     ],
     "prompt_number": 17
    },
    {
     "cell_type": "markdown",
     "metadata": {},
     "source": [
      "You're starting to become a real expert in indexing strings. Now what if we would like to find out what the last two or three letters of our name are? In Python we can use so-called 'slice-indexes' or 'slices' for short. To find the first two letters of our name we type in:"
     ]
    },
    {
     "cell_type": "code",
     "collapsed": false,
     "input": [
      "first_two_letters = name[0:2]\n",
      "print(first_two_letters)"
     ],
     "language": "python",
     "metadata": {},
     "outputs": []
    },
    {
     "cell_type": "markdown",
     "metadata": {},
     "source": [
      "The `0` index is optional, so we could just as well type in `name[:2]`. This says take all characters of name until you reach index 2 (i.e. up to the third letter, but not including the third letter). We can also start at index 2 and leave the end index unspecified:"
     ]
    },
    {
     "cell_type": "code",
     "collapsed": false,
     "input": [
      "without_first_two_letters = name[2:]\n",
      "print(without_first_two_letters)"
     ],
     "language": "python",
     "metadata": {},
     "outputs": [
      {
       "output_type": "stream",
       "stream": "stdout",
       "text": [
        "stemont\n"
       ]
      }
     ],
     "prompt_number": 18
    },
    {
     "cell_type": "markdown",
     "metadata": {},
     "source": [
      "Because we did not specify the end index, Python continues until it reaches the end of our string. If we would like to find out what the last two letters of our name are, we can type in:"
     ]
    },
    {
     "cell_type": "code",
     "collapsed": false,
     "input": [
      "last_two_letters = name[-2:]\n",
      "print(last_two_letters)"
     ],
     "language": "python",
     "metadata": {},
     "outputs": []
    },
    {
     "cell_type": "markdown",
     "metadata": {},
     "source": [
      "-------"
     ]
    },
    {
     "cell_type": "heading",
     "level": 4,
     "metadata": {},
     "source": [
      "Quiz!"
     ]
    },
    {
     "cell_type": "markdown",
     "metadata": {},
     "source": [
      "Can you define a variable `middle_letters` and assign to it all letters of your name except for the first two and the last two?"
     ]
    },
    {
     "cell_type": "code",
     "collapsed": false,
     "input": [
      "middle_letters = name[2:-2] # insert your code here\n",
      "print(middle_letters)"
     ],
     "language": "python",
     "metadata": {},
     "outputs": [
      {
       "output_type": "stream",
       "stream": "stdout",
       "text": [
        "stemo\n"
       ]
      }
     ],
     "prompt_number": 19
    },
    {
     "cell_type": "markdown",
     "metadata": {},
     "source": [
      "Given the following two words, can you write code that prints out the word *humanities* using only slicing and concatenation? (So, no quotes are allowed in your code.) Can you print out how many characters the word *humanities* counts?"
     ]
    },
    {
     "cell_type": "code",
     "collapsed": false,
     "input": [
      "word1 = \"human\"\n",
      "word2 = \"opportunities\"\n",
      "new_word = \"human\"+word2[-5:]\n",
      "print(new_word)\n",
      "print(len(new_word))"
     ],
     "language": "python",
     "metadata": {},
     "outputs": [
      {
       "output_type": "stream",
       "stream": "stdout",
       "text": [
        "humanities\n",
        "10\n"
       ]
      }
     ],
     "prompt_number": 21
    },
    {
     "cell_type": "heading",
     "level": 5,
     "metadata": {},
     "source": [
      "\"Casting\" variables"
     ]
    },
    {
     "cell_type": "markdown",
     "metadata": {},
     "source": [
      "Above, we have already learned that each variable as a data type: variables can be strings, floats, integers, etc. Sometimes it is necessary to convert one type into the other. Consider this:"
     ]
    },
    {
     "cell_type": "code",
     "collapsed": false,
     "input": [
      "x = \"5\"\n",
      "y = 2\n",
      "print(x + y)"
     ],
     "language": "python",
     "metadata": {},
     "outputs": [
      {
       "ename": "TypeError",
       "evalue": "Can't convert 'int' object to str implicitly",
       "output_type": "pyerr",
       "traceback": [
        "\u001b[0;31m---------------------------------------------------------------------------\u001b[0m\n\u001b[0;31mTypeError\u001b[0m                                 Traceback (most recent call last)",
        "\u001b[0;32m<ipython-input-4-a07ac30e9818>\u001b[0m in \u001b[0;36m<module>\u001b[0;34m()\u001b[0m\n\u001b[1;32m      1\u001b[0m \u001b[0mx\u001b[0m \u001b[0;34m=\u001b[0m \u001b[0;34m\"5\"\u001b[0m\u001b[0;34m\u001b[0m\u001b[0m\n\u001b[1;32m      2\u001b[0m \u001b[0my\u001b[0m \u001b[0;34m=\u001b[0m \u001b[0;36m2\u001b[0m\u001b[0;34m\u001b[0m\u001b[0m\n\u001b[0;32m----> 3\u001b[0;31m \u001b[0mprint\u001b[0m\u001b[0;34m(\u001b[0m\u001b[0mx\u001b[0m \u001b[0;34m+\u001b[0m \u001b[0my\u001b[0m\u001b[0;34m)\u001b[0m\u001b[0;34m\u001b[0m\u001b[0m\n\u001b[0m",
        "\u001b[0;31mTypeError\u001b[0m: Can't convert 'int' object to str implicitly"
       ]
      }
     ],
     "prompt_number": 4
    },
    {
     "cell_type": "markdown",
     "metadata": {},
     "source": [
      "This should raise an error on your machine: does the error message gives you a hint why this doesn't work? *x* is an string, and *y* is an integer. Because of this, you can sum them. Luckily there exist ways to 'cast' variables from one type of variable into another type of variable. Do you understand the outcome of the following code? Can you comment in your own words on the effect of applying `int()` and `str()` to variables?"
     ]
    },
    {
     "cell_type": "code",
     "collapsed": false,
     "input": [
      "x = \"5\"\n",
      "y = 2\n",
      "print(x + str(y))\n",
      "print(int(x) + y)"
     ],
     "language": "python",
     "metadata": {},
     "outputs": [
      {
       "output_type": "stream",
       "stream": "stdout",
       "text": [
        "52\n",
        "7\n"
       ]
      }
     ],
     "prompt_number": 3
    },
    {
     "cell_type": "markdown",
     "metadata": {},
     "source": [
      "Other types of conversions are possible as well, and we will see a couple of them in the next chapters."
     ]
    },
    {
     "cell_type": "markdown",
     "metadata": {},
     "source": [
      "----------"
     ]
    },
    {
     "cell_type": "heading",
     "level": 5,
     "metadata": {},
     "source": [
      "What we have learnt"
     ]
    },
    {
     "cell_type": "markdown",
     "metadata": {},
     "source": [
      "To finish this section, here is an overview of what we have learnt. Go through the list and make sure you understand all the concepts.\n",
      "\n",
      "-  concatenation\n",
      "-  index\n",
      "-  slicing\n",
      "-  `len()`\n",
      "-  type casting: `int()` and `str()`\n"
     ]
    },
    {
     "cell_type": "markdown",
     "metadata": {},
     "source": [
      "-------"
     ]
    },
    {
     "cell_type": "heading",
     "level": 2,
     "metadata": {},
     "source": [
      "Lists"
     ]
    },
    {
     "cell_type": "markdown",
     "metadata": {},
     "source": [
      "Consider the sentence below:"
     ]
    },
    {
     "cell_type": "code",
     "collapsed": false,
     "input": [
      "sentence = \"Python's name is derived from the television series Monty Python's Flying Circus.\""
     ],
     "language": "python",
     "metadata": {},
     "outputs": [],
     "prompt_number": 27
    },
    {
     "cell_type": "markdown",
     "metadata": {},
     "source": [
      "Words are made up of characters, and so are strings in Python, like the string stored in the variable `sentence` in the block above. For the sentence above, it might seem more natural for humans to describe it as a series of words, rather than as a serieis of characters. Say we want to access the first word in our sentence. If we type in:"
     ]
    },
    {
     "cell_type": "code",
     "collapsed": false,
     "input": [
      "first_word = sentence[0]\n",
      "print(first_word)"
     ],
     "language": "python",
     "metadata": {},
     "outputs": []
    },
    {
     "cell_type": "markdown",
     "metadata": {},
     "source": [
      "Python only prints the first *character* of our sentence. (Think about this if you do not understand why.) We can transform our sentence into a `list` of words (represented by strings) using the `split()` function as follows: "
     ]
    },
    {
     "cell_type": "code",
     "collapsed": false,
     "input": [
      "words = sentence.split()\n",
      "print(words)"
     ],
     "language": "python",
     "metadata": {},
     "outputs": [
      {
       "output_type": "stream",
       "stream": "stdout",
       "text": [
        "[\"Python's\", 'name', 'is', 'derived', 'from', 'the', 'television', 'series', 'Monty', \"Python's\", 'Flying', 'Circus.']\n"
       ]
      }
     ],
     "prompt_number": 28
    },
    {
     "cell_type": "markdown",
     "metadata": {},
     "source": [
      "Make sure that you understand the syntax of this code! We call things like `split()` 'functions': functions provide small pieces of helpful, ready-made functionality that we can use in our own code. Here, we apply the `split()` function to the variable `sentence` and we assign the result of the function (we call this the 'return value' of the function) to the new variable `words`.\n",
      "\n",
      "By default, the split() function in Python will split strings on the spaces between consecutive words and it will returns a list of words. However, if we can pass an extra argument to split(), namely the string we would like to split on. In the code block below, we will split a string on commas, instead of spaces. Do you get the syntax?"
     ]
    },
    {
     "cell_type": "code",
     "collapsed": false,
     "input": [
      "fruitstring = \"banana,pear,apple\"\n",
      "fruitlist = fruitstring.split(\",\")\n",
      "print(fruitlist)"
     ],
     "language": "python",
     "metadata": {},
     "outputs": [
      {
       "output_type": "stream",
       "stream": "stdout",
       "text": [
        "['banana', 'pear', 'apple']\n"
       ]
      }
     ],
     "prompt_number": 1
    },
    {
     "cell_type": "markdown",
     "metadata": {},
     "source": [
      "The reverse of `split()` function can be accomplished with `join()`, it turns a list into a string, with a specific delimiter."
     ]
    },
    {
     "cell_type": "code",
     "collapsed": false,
     "input": [
      "fruitlist = ['banana', 'pear', 'apple']\n",
      "delimiter = \",\"\n",
      "fruitstring = delimiter.join(fruitlist)\n",
      "print(fruitstring)"
     ],
     "language": "python",
     "metadata": {},
     "outputs": []
    },
    {
     "cell_type": "markdown",
     "metadata": {},
     "source": [
      "The above four lines can be accomplished in a single line if code, can you figure out how? (Tip: replace all variables by their values)"
     ]
    },
    {
     "cell_type": "markdown",
     "metadata": {},
     "source": [
      "---"
     ]
    },
    {
     "cell_type": "heading",
     "level": 3,
     "metadata": {},
     "source": [
      "replace()"
     ]
    },
    {
     "cell_type": "markdown",
     "metadata": {},
     "source": [
      "The `replace()` function replaces occurrences of a specified substring with another.\n",
      "\n"
     ]
    },
    {
     "cell_type": "code",
     "collapsed": false,
     "input": [
      "text = \"You can not compare apples and pears\"\n",
      "text = text.replace(\"pears\", \"apples\")\n",
      "text = text.replace(\"not\", \"\")\n",
      "print(text)"
     ],
     "language": "python",
     "metadata": {},
     "outputs": []
    },
    {
     "cell_type": "heading",
     "level": 4,
     "metadata": {},
     "source": [
      "Exercise"
     ]
    },
    {
     "cell_type": "code",
     "collapsed": false,
     "input": [
      "text = \"Research has shown that it is often still possible to understand text even if all vowels are removed\"\n",
      "# insert your code here.. I suppose it's obvious what we want you to do ;)\n",
      "print(text)"
     ],
     "language": "python",
     "metadata": {},
     "outputs": []
    },
    {
     "cell_type": "markdown",
     "metadata": {},
     "source": [
      "---"
     ]
    },
    {
     "cell_type": "markdown",
     "metadata": {},
     "source": [
      "Python has two functions for changing the case of a string. `lower()` turns a string to lower case and `upper()` returns an upper-case version"
     ]
    },
    {
     "cell_type": "code",
     "collapsed": false,
     "input": [
      "my_string = \"AllCaps\"\n",
      "print(my_string().lower())\n",
      "print(my_string().upper())"
     ],
     "language": "python",
     "metadata": {},
     "outputs": []
    },
    {
     "cell_type": "markdown",
     "metadata": {},
     "source": [
      "---"
     ]
    },
    {
     "cell_type": "heading",
     "level": 4,
     "metadata": {},
     "source": [
      "Quiz!"
     ]
    },
    {
     "cell_type": "markdown",
     "metadata": {},
     "source": [
      "-  Can you come up with your own sentence `my_sentence` and split it into words along spaces? Print it!\n",
      "-  You can recognize functions because they are always followed by (round brackets). Apart from the `split()` function, we already encountered other functions: which ones? Can you describe their functionality? Are there any differences in terms of syntax when you compare these to `split()`?\n",
      "-  Is there any difference in length for Python between the variables `sentence` and `words`? (Use functions to find this out!)"
     ]
    },
    {
     "cell_type": "code",
     "collapsed": false,
     "input": [
      "# your quiz code goes here..."
     ],
     "language": "python",
     "metadata": {},
     "outputs": []
    },
    {
     "cell_type": "markdown",
     "metadata": {},
     "source": [
      "-------"
     ]
    },
    {
     "cell_type": "markdown",
     "metadata": {},
     "source": [
      "In many ways, list variables are very similar to string. We can for example access its components using indexes and we can use slice indexes to access parts of the list. Let's try it!\n",
      "\n",
      "Write a small program that defines a variable `first_word` and assign to it the first word of our word list `words`. Do the same for the fifth word, the last word and the last but one word! Also, try to take slice from `words` and extract the string of words between `derived` and `Flying` (the slice should not include `derived` and `Flying`). Also, make a slice of words that is identical to the title of the television series in `words`.   "
     ]
    },
    {
     "cell_type": "code",
     "collapsed": false,
     "input": [
      "first_word = \"...\" # insert your code here"
     ],
     "language": "python",
     "metadata": {},
     "outputs": [],
     "prompt_number": 32
    },
    {
     "cell_type": "markdown",
     "metadata": {},
     "source": [
      "---------------"
     ]
    },
    {
     "cell_type": "markdown",
     "metadata": {},
     "source": [
      "A `list` acts like some kind of container where we can store all kinds of information. We can access a list using indexes and slices. We can also add new items to a list. For that you use the the function `append()`. Let's see how it works. Say we want to keep a list of all our good reads. We first declare an empty list using square brackets ([]). Next, we add some good books to the list:"
     ]
    },
    {
     "cell_type": "code",
     "collapsed": false,
     "input": [
      "# start with an empty list\n",
      "good_reads = []\n",
      "good_reads.append(\"The Hunger games\")\n",
      "good_reads.append(\"A Clockwork Orange\")\n",
      "print(good_reads)"
     ],
     "language": "python",
     "metadata": {},
     "outputs": []
    },
    {
     "cell_type": "markdown",
     "metadata": {},
     "source": [
      "Do you get the syntax that goes with the `append()` function? The list we wish to append the item to goes first and we join the append() function to this list using a dot (`.`). In between the round brackets that go with the function name, we place the actual string that we wish to add to the list. We call such a input value an 'argument' or a 'parameter' that we 'pass' to a function. Next, the function will return a 'return value'. Make sure that you are familiar with this terminology because you will often come across such terms when you look for help online!\n",
      "\n",
      "Now, if for some reason we don't like a particular book anymore, we can change it as follows using the old item's index:"
     ]
    },
    {
     "cell_type": "code",
     "collapsed": false,
     "input": [
      "good_reads[0] = \"Pride and Prejudice\"\n",
      "print(good_reads)"
     ],
     "language": "python",
     "metadata": {},
     "outputs": []
    },
    {
     "cell_type": "markdown",
     "metadata": {},
     "source": [
      "As you see, it is no problem to reset or update an individual item in a list. This is different, however, for strings. Run the following code in which we try to change a single character in a string. This will raise an error -- this is your computer signalling that something is wrong. This is because `strings` (and some other types) are *immutable*. That is, they cannot be changed, as opposed to `list`s which *are* mutable."
     ]
    },
    {
     "cell_type": "code",
     "collapsed": false,
     "input": [
      "name = \"Bonny\"\n",
      "name[3] = \"t\""
     ],
     "language": "python",
     "metadata": {},
     "outputs": []
    },
    {
     "cell_type": "markdown",
     "metadata": {},
     "source": [
      "--------"
     ]
    },
    {
     "cell_type": "heading",
     "level": 4,
     "metadata": {},
     "source": [
      "Quiz!"
     ]
    },
    {
     "cell_type": "markdown",
     "metadata": {},
     "source": [
      "Here's another small quiz! Add two new titles to the list of `good_reads`. Then, try to change the title of the second book in our good reads collection:"
     ]
    },
    {
     "cell_type": "code",
     "collapsed": false,
     "input": [
      "# insert your code here\n",
      "print(good_reads)"
     ],
     "language": "python",
     "metadata": {},
     "outputs": []
    },
    {
     "cell_type": "markdown",
     "metadata": {},
     "source": [
      "-------------------------------"
     ]
    },
    {
     "cell_type": "markdown",
     "metadata": {},
     "source": [
      "Lists are a really powerful of dealing with your data in Python. Let's explore some other ways in which we can manipulate lists."
     ]
    },
    {
     "cell_type": "heading",
     "level": 4,
     "metadata": {},
     "source": [
      "remove()"
     ]
    },
    {
     "cell_type": "markdown",
     "metadata": {},
     "source": [
      "Let's assume our good read collection has grown a lot and we would like to remove some of the books from the list. Python provides the function `remove()` that you can call on a list and which takes as argument the item we would like to remove. "
     ]
    },
    {
     "cell_type": "code",
     "collapsed": false,
     "input": [
      "good_reads = [\"The Hunger games\", \"A Clockwork Orange\", \n",
      "             \"Pride and Prejudice\", \"Water for Elephants\",\n",
      "good_reads.remove(\"Water for Elephants\")\n",
      "\n",
      "print(good_reads)"
     ],
     "language": "python",
     "metadata": {},
     "outputs": []
    },
    {
     "cell_type": "markdown",
     "metadata": {},
     "source": [
      "If we try to remove a book that is not in our collection, Python raises an error to signal that something is error."
     ]
    },
    {
     "cell_type": "code",
     "collapsed": false,
     "input": [
      "good_reads.remove(\"White Oleander\")"
     ],
     "language": "python",
     "metadata": {},
     "outputs": []
    },
    {
     "cell_type": "markdown",
     "metadata": {},
     "source": [
      "Note, however, that `remove()` will only delete the *first* item in the list that is identical to the parameter which you passed to the function. Execue the code in the block below and you will see that only the first instance of \"Pride and Prejudice\" gets deleted."
     ]
    },
    {
     "cell_type": "code",
     "collapsed": false,
     "input": [
      "good_reads = [\"The Hunger games\", \"A Clockwork Orange\", \n",
      "             \"Pride and Prejudice\", \"Water for Elephants\", \"Pride and Prejudice\"]\n",
      "good_reads.remove(\"Pride and Prejudice\")\n",
      "print(good_reads)"
     ],
     "language": "python",
     "metadata": {},
     "outputs": [
      {
       "output_type": "stream",
       "stream": "stdout",
       "text": [
        "['The Hunger games', 'A Clockwork Orange', 'Water for Elephants', 'Pride and Prejudice']\n"
       ]
      }
     ],
     "prompt_number": 34
    },
    {
     "cell_type": "markdown",
     "metadata": {},
     "source": [
      "--------"
     ]
    },
    {
     "cell_type": "heading",
     "level": 4,
     "metadata": {},
     "source": [
      "Quiz!"
     ]
    },
    {
     "cell_type": "markdown",
     "metadata": {},
     "source": [
      "Have a look at the code block below and read the dicussion of commenting on Python code using hashtags. Then, define a variable `good_reads` as an empty list. Now add some of your favorite books to it (at least three) and print the last two books you added. Then remove the third book in the list. Finally, comment on every line of code using hashtags!"
     ]
    },
    {
     "cell_type": "code",
     "collapsed": false,
     "input": [
      "# comment: insert your code here. BTW: Have you noticed that everything behind the hashtag \n",
      "print(\"Something...\") # on a line is ignored by your python interpreter?\n",
      "print(\"and something else..\") # this is really helpful to comment on your code!"
     ],
     "language": "python",
     "metadata": {},
     "outputs": []
    },
    {
     "cell_type": "markdown",
     "metadata": {},
     "source": [
      "------"
     ]
    },
    {
     "cell_type": "markdown",
     "metadata": {},
     "source": [
      "Just as with strings, we can concatenate two lists using the `+` operator. Here is an example:"
     ]
    },
    {
     "cell_type": "code",
     "collapsed": false,
     "input": [
      "# first we specify two lists of strings:\n",
      "good_reads = [\"The Hunger games\", \"A Clockwork Orange\", \n",
      "              \"Pride and Prejudice\", \"Water for Elephants\",\n",
      "              \"The Shadow of the Wind\", \"Bel Canto\"]\n",
      "bad_reads = [\"Fifty Shades of Grey\", \"Twilight\"]\n",
      "\n",
      "# then we combine them\n",
      "all_reads = good_reads + bad_reads\n",
      "print(all_reads)"
     ],
     "language": "python",
     "metadata": {},
     "outputs": []
    },
    {
     "cell_type": "heading",
     "level": 4,
     "metadata": {},
     "source": [
      "sort()"
     ]
    },
    {
     "cell_type": "markdown",
     "metadata": {},
     "source": [
      "It is always nice to organise your bookshelf. We can sort our collection alphabetically with the following expression:"
     ]
    },
    {
     "cell_type": "code",
     "collapsed": false,
     "input": [
      "good_reads.sort()\n",
      "print(good_reads)"
     ],
     "language": "python",
     "metadata": {},
     "outputs": []
    },
    {
     "cell_type": "heading",
     "level": 4,
     "metadata": {},
     "source": [
      "nested lists"
     ]
    },
    {
     "cell_type": "markdown",
     "metadata": {},
     "source": [
      "Until now our lists only consisted of strings. However, a list can contain all kinds of data types, such as integers and even lists! Do you understand what is happening in the following example? Have a close look at the square brackets used."
     ]
    },
    {
     "cell_type": "code",
     "collapsed": false,
     "input": [
      "nested_list = [[1, 2, 3, 4], [5, 6, 7, 8]]\n",
      "print(nested_list[0])\n",
      "print(nested_list[0][0])\n",
      "print(nested_list[1][2])\n",
      "print(nested_list[0][:-2])"
     ],
     "language": "python",
     "metadata": {},
     "outputs": [
      {
       "output_type": "stream",
       "stream": "stdout",
       "text": [
        "[1, 2, 3, 4]\n",
        "1\n",
        "7\n",
        "[1, 2]\n"
       ]
      }
     ],
     "prompt_number": 35
    },
    {
     "cell_type": "markdown",
     "metadata": {},
     "source": [
      "We can put this to use to enhance our good read collection with a score for every book we have. An entry in our collection will consist of a score within the range of `1` and `10` and the title of our book. The first element is the title; the second the score `[title, score]`. We initialize an empty list:"
     ]
    },
    {
     "cell_type": "code",
     "collapsed": false,
     "input": [
      "good_reads = []"
     ],
     "language": "python",
     "metadata": {},
     "outputs": []
    },
    {
     "cell_type": "markdown",
     "metadata": {},
     "source": [
      "And add two books to it:"
     ]
    },
    {
     "cell_type": "code",
     "collapsed": false,
     "input": [
      "good_reads.append([\"Pride and Prejudice\", 8])\n",
      "good_reads.append([\"A Clockwork Orange\", 9])"
     ],
     "language": "python",
     "metadata": {},
     "outputs": []
    },
    {
     "cell_type": "markdown",
     "metadata": {},
     "source": [
      "---------"
     ]
    },
    {
     "cell_type": "heading",
     "level": 4,
     "metadata": {},
     "source": [
      "Quiz!"
     ]
    },
    {
     "cell_type": "markdown",
     "metadata": {},
     "source": [
      "Update the `good_reads` collection with some of your own books and give them all a score and a publication year. Can you print out the score you gave to the first book in the list? And the publication year of the third item in your list? (Hint: you can pile up indexes using square brackets!)"
     ]
    },
    {
     "cell_type": "code",
     "collapsed": false,
     "input": [
      "# insert your code here"
     ],
     "language": "python",
     "metadata": {},
     "outputs": []
    },
    {
     "cell_type": "markdown",
     "metadata": {},
     "source": [
      "-----------"
     ]
    },
    {
     "cell_type": "heading",
     "level": 5,
     "metadata": {},
     "source": [
      "What we have learnt"
     ]
    },
    {
     "cell_type": "markdown",
     "metadata": {},
     "source": [
      "To finish this section, here is an overview of the new concepts you have learnt. Go through them and make sure you understand them all.\n",
      "\n",
      "-  lists\n",
      "-  nested lists\n",
      "-  *mutable* versus *immutable*\n",
      "-  `.split()` vs. `.join()`\n",
      "-  `.append()`\n",
      "-  `.remove()`\n",
      "-  `.sort()`\n",
      "-  `.upper()` vs. `.lower()`"
     ]
    },
    {
     "cell_type": "markdown",
     "metadata": {},
     "source": [
      "-------------"
     ]
    },
    {
     "cell_type": "heading",
     "level": 2,
     "metadata": {},
     "source": [
      "Dictionaries"
     ]
    },
    {
     "cell_type": "markdown",
     "metadata": {},
     "source": [
      "Our little good reads collection is starting to look good and we can perform all kinds of manipulations on it. Now, imagine that our list is large and we would like to look up the score we gave to a particular book. How are we going to find that book? For this purpose Python provides another more appropriate data structure, named `dictionary`. A `dictionary` is similar to the dictionaries you have at home. It consists of entries, or keys, that hold a value. Let's define one:"
     ]
    },
    {
     "cell_type": "code",
     "collapsed": false,
     "input": [
      "my_dict = {\"book\": \"physical objects consisting of a number of pages bound together\",\n",
      "           \"sword\": \"a cutting or thrusting weapon that has a long metal blade\",\n",
      "           \"pie\": \"dish baked in pastry-lined pan often with a pastry top\"}"
     ],
     "language": "python",
     "metadata": {},
     "outputs": []
    },
    {
     "cell_type": "markdown",
     "metadata": {},
     "source": [
      "Take a close look at the new syntax. Notice the curly brackets and the colons. To look up the value of a given key, we `index' the dictionary using that key:"
     ]
    },
    {
     "cell_type": "code",
     "collapsed": false,
     "input": [
      "description = my_dict[\"sword\"]\n",
      "print(description)"
     ],
     "language": "python",
     "metadata": {},
     "outputs": []
    },
    {
     "cell_type": "markdown",
     "metadata": {},
     "source": [
      "Like lists, dictionaries are mutable which means we can add and remove entries from it. Let's define an empty dictionary and add some books to it. The titles will be our keys and the scores their values. Watch the syntax to add a new entry:"
     ]
    },
    {
     "cell_type": "code",
     "collapsed": false,
     "input": [
      "good_reads = {}\n",
      "good_reads[\"Pride and Prejudice\"] = 8\n",
      "good_reads[\"A Clockwork Orange\"] = 9"
     ],
     "language": "python",
     "metadata": {},
     "outputs": []
    },
    {
     "cell_type": "markdown",
     "metadata": {},
     "source": [
      "In in way this is similar to what we have seen before when we altered our book `list`. There we indexed the list using a integer to access a particular book. Here we directly use the title of the book. Can you imagine why this is so useful?"
     ]
    },
    {
     "cell_type": "markdown",
     "metadata": {},
     "source": [
      "--------"
     ]
    },
    {
     "cell_type": "heading",
     "level": 4,
     "metadata": {},
     "source": [
      "Quiz!"
     ]
    },
    {
     "cell_type": "markdown",
     "metadata": {},
     "source": [
      "Update the new good reads datastructure with your own books. Try to print out the score your gave for one of the books."
     ]
    },
    {
     "cell_type": "code",
     "collapsed": false,
     "input": [
      "# put your code here"
     ],
     "language": "python",
     "metadata": {},
     "outputs": []
    },
    {
     "cell_type": "markdown",
     "metadata": {},
     "source": [
      "----------"
     ]
    },
    {
     "cell_type": "heading",
     "level": 4,
     "metadata": {},
     "source": [
      "keys(), values()"
     ]
    },
    {
     "cell_type": "markdown",
     "metadata": {},
     "source": [
      "To retrieve a list of all the books we have in our collection, we can ask the dictionary to return its keys as a list:"
     ]
    },
    {
     "cell_type": "code",
     "collapsed": false,
     "input": [
      "good_reads.keys()"
     ],
     "language": "python",
     "metadata": {},
     "outputs": []
    },
    {
     "cell_type": "markdown",
     "metadata": {},
     "source": [
      "Similarly we can ask for the values:"
     ]
    },
    {
     "cell_type": "code",
     "collapsed": false,
     "input": [
      "good_reads.values()"
     ],
     "language": "python",
     "metadata": {},
     "outputs": []
    },
    {
     "cell_type": "markdown",
     "metadata": {},
     "source": [
      "---------"
     ]
    },
    {
     "cell_type": "heading",
     "level": 5,
     "metadata": {},
     "source": [
      "What we have learnt"
     ]
    },
    {
     "cell_type": "markdown",
     "metadata": {},
     "source": [
      "To finish this section, here is an overview of the new concepts and functions you have learnt. Make sure you understand them all.\n",
      "\n",
      "-  dictionary\n",
      "-  indexing or accessing keys of dictionaries\n",
      "-  adding items to a dictionary\n",
      "-  `.keys()`\n",
      "-  `.values()`"
     ]
    },
    {
     "cell_type": "markdown",
     "metadata": {},
     "source": [
      "--------"
     ]
    },
    {
     "cell_type": "markdown",
     "metadata": {},
     "source": [
      "\n"
     ]
    },
    {
     "cell_type": "markdown",
     "metadata": {},
     "source": [
      "You've reached the end of Chapter 1! Ignore the code block below -- it's only here to make the page prettier."
     ]
    },
    {
     "cell_type": "code",
     "collapsed": false,
     "input": [
      "from IPython.core.display import HTML\n",
      "def css_styling():\n",
      "    styles = open(\"styles/custom.css\", \"r\").read()\n",
      "    return HTML(styles)\n",
      "css_styling()"
     ],
     "language": "python",
     "metadata": {},
     "outputs": [
      {
       "html": [
        "<style>\n",
        "    @font-face {\n",
        "        font-family: \"Computer Modern\";\n",
        "        src: url('http://mirrors.ctan.org/fonts/cm-unicode/fonts/otf/cmunss.otf');\n",
        "    }\n",
        "    div.cell {\n",
        "        width:800px;\n",
        "        margin-left:auto;\n",
        "        margin-right:auto;\n",
        "    }\n",
        "    div.cell, .input.hbox {\n",
        "    display:block;\n",
        "}\n",
        "    h1 {\n",
        "        font-family: \"Charis SIL\", Palatino, serif;\n",
        "    }\n",
        "    h4{\n",
        "        margin-top:12px;\n",
        "        margin-bottom: 3px;\n",
        "       }\n",
        "    div.text_cell_render{\n",
        "        font-family: Computer Modern, \"Helvetica Neue\", Arial, Helvetica, Geneva, sans-serif;\n",
        "        line-height: 145%;\n",
        "        font-size: 120%;\n",
        "        width:800px;\n",
        "        margin-left:auto;\n",
        "        margin-right:auto;\n",
        "    }\n",
        "    .CodeMirror{\n",
        "            font-family: \"Source Code Pro\", source-code-pro,Consolas, monospace;\n",
        "    }\n",
        "    .prompt{\n",
        "        display: None;\n",
        "    }\n",
        "    .text_cell_render h5 {\n",
        "        font-weight: 300;\n",
        "        font-size: 16pt;\n",
        "        color: #4057A1;\n",
        "        font-style: italic;\n",
        "        margin-bottom: .5em;\n",
        "        margin-top: 0.5em;\n",
        "        display: block;\n",
        "    }\n",
        "    \n",
        "    .warning{\n",
        "        color: rgb( 240, 20, 20 )\n",
        "        }\n",
        "</style>\n",
        "<script>\n",
        "    MathJax.Hub.Config({\n",
        "                        TeX: {\n",
        "                           extensions: [\"AMSmath.js\"]\n",
        "                           },\n",
        "                tex2jax: {\n",
        "                    inlineMath: [ ['$','$'], [\"\\\\(\",\"\\\\)\"] ],\n",
        "                    displayMath: [ ['$$','$$'], [\"\\\\[\",\"\\\\]\"] ]\n",
        "                },\n",
        "                displayAlign: 'center', // Change this to 'center' to center equations.\n",
        "                \"HTML-CSS\": {\n",
        "                    styles: {'.MathJax_Display': {\"margin\": 4}}\n",
        "                }\n",
        "        });\n",
        "</script>"
       ],
       "output_type": "pyout",
       "prompt_number": 1,
       "text": [
        "<IPython.core.display.HTML at 0x10cddc3d0>"
       ]
      }
     ],
     "prompt_number": 1
    }
   ],
   "metadata": {}
  }
 ]
}