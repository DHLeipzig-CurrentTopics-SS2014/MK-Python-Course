{
 "metadata": {
  "name": "Chapter 1 - Building Blocks"
 },
 "nbformat": 3,
 "nbformat_minor": 0,
 "worksheets": [
  {
   "cells": [
    {
     "cell_type": "heading",
     "level": 1,
     "metadata": {},
     "source": [
      "Chapter 1: Building Blocks"
     ]
    },
    {
     "cell_type": "markdown",
     "metadata": {},
     "source": [
      "-- *A Python Course for the Humanities by Folgert Karsdorp and Maarten van Gompel, with modifications by Mike Kestemont and Lars Wieneke*"
     ]
    },
    {
     "cell_type": "markdown",
     "metadata": {},
     "source": [
      "-------------------------------"
     ]
    },
    {
     "cell_type": "heading",
     "level": 2,
     "metadata": {},
     "source": [
      "First steps"
     ]
    },
    {
     "cell_type": "markdown",
     "metadata": {},
     "source": [
      "Everyone can learn how to program and the best way to learn it is by doing. This tutorial on the Python programming language for people from the Humanities is extremely hands-on: you will have to write a lot of programming code yourself from the very beginning onwards. For writing the Python code in this tutorial, you can use the many 'code blocks' you will encounter, such as the grey block immediately below. Place your cursor inside this block and press ctrl+enter to \"run\" or execute the code. Let's begin right away: run your first little program!"
     ]
    },
    {
     "cell_type": "code",
     "collapsed": false,
     "input": [
      "print(\"Ready, set, GO!\")"
     ],
     "language": "python",
     "metadata": {},
     "outputs": []
    },
    {
     "cell_type": "markdown",
     "metadata": {},
     "source": [
      "* Can you describe what this code did?\n",
      "* Can you adapt the code in this box yourself and make it print your own name?\n",
      "\n",
      "Except from printing words to your screen, you can use Python to do calculations. \n",
      "\n",
      "* Use the code block below to calculate how many minutes there are in seven weeks? (Hint: multiplication is done using the `*` symbol in Python.)"
     ]
    },
    {
     "cell_type": "code",
     "collapsed": false,
     "input": [
      "# insert your own code below!"
     ],
     "language": "python",
     "metadata": {},
     "outputs": []
    },
    {
     "cell_type": "markdown",
     "metadata": {},
     "source": [
      "Excellent! You have just written and executed your very first program! Please make sure to run *every single one* of the following code blocks in the same manner -- otherwise a lot of the examples won't properly work.\n",
      "\n",
      "So far we used Python as a pretty minimalistic calculator, but there is more to discover. \n",
      "\n",
      "## Variables and values\n",
      "Imagine that we want to store the number we just calculated so we can use it later. To do this we need to 'assign' a name to a value using the = symbol. "
     ]
    },
    {
     "cell_type": "code",
     "collapsed": false,
     "input": [
      "x = 2\n",
      "print(x)"
     ],
     "language": "python",
     "metadata": {},
     "outputs": []
    },
    {
     "cell_type": "markdown",
     "metadata": {},
     "source": [
      "If you vaguely remember your math-classes in school this should look familiar. It is basically the same notation with the name of the variable on the left, the value on the right and the = sign in the middle. \n",
      "\n",
      "In the code block above, two things happen. First, we fill `x` with a value, in our case `2`.This variable x behaves pretty much like a box on which we write an `x` with a thick, black marker to find it back later. We then print the contents of this box, using the `print()` command. \n",
      "\n",
      "* Now copy the outcome of your code calculating the number of minutes in seven weeks and assign this number to `x`. Run the code again.\n",
      "\n",
      "The box metaphor for a variable goes a long way: in such a box you can put whatever value you want, e.g. the number of minutes in seven weeks. When you re-assign a variable, you remove the content of the box and  put something new in it. In Python, the term 'variable' refers to such a box, whereas the term 'value' refers to what is inside this box."
     ]
    },
    {
     "cell_type": "markdown",
     "metadata": {},
     "source": [
      "When we have stored values inside variables, we can do interestings things with these variables. You can for instance run the calculations in the block below to see the effect of the following five lines of code. Symbols like `=`, `+`, `-` and `*` are called 'operators' in programming: they all provide a very basic functionality such as assigning values to variables or doing multiplication and subtraction.  "
     ]
    },
    {
     "cell_type": "code",
     "collapsed": true,
     "input": [
      "x = 2\n",
      "print(x)\n",
      "print(x * x)\n",
      "print(x + x)\n",
      "print(x - 6)"
     ],
     "language": "python",
     "metadata": {},
     "outputs": []
    },
    {
     "cell_type": "markdown",
     "metadata": {},
     "source": [
      "So far, we have used only a variable called `x`. Nevertheless, we are entirely free to change the names of our variables, as long as these names do not contain strange characters, such as spaces, numbers or punctuation marks. (Underscores, however, are allowed inside names!) In the following block, we assign the outcome of our calculation to a variable that has a more meaningful name than the abstract name `x`."
     ]
    },
    {
     "cell_type": "code",
     "collapsed": false,
     "input": [
      "seconds_in_seven_weeks = 70560\n",
      "print(seconds_in_seven_weeks)"
     ],
     "language": "python",
     "metadata": {},
     "outputs": []
    },
    {
     "cell_type": "markdown",
     "metadata": {},
     "source": [
      "In Python we can also copy the contents of a variable *into another variable*, which is what happens in the block below. You should of course watch out in such cases: make sure that you keep track of the value of each individual variable in your code. Each variable will always contain the value that you *last* assigned to it:"
     ]
    },
    {
     "cell_type": "code",
     "collapsed": false,
     "input": [
      "first_number = 5\n",
      "second_number = first_number\n",
      "first_number = 3\n",
      "print(first_number)\n",
      "print(second_number)"
     ],
     "language": "python",
     "metadata": {},
     "outputs": []
    },
    {
     "cell_type": "markdown",
     "metadata": {},
     "source": [
      "Remember: as with boxes in real life, it is always a good idea to give the box a clear and short name, with your black marker -- the name should accurately reflect what is inside the box. Just like you don't write `cookies` on a box that in reality contains bananas, it is important to always give your Python variables a sensible name. In the code block below, for instance, we make the stupid mistake of calling a variable `months`, while it actually contains `seconds`..."
     ]
    },
    {
     "cell_type": "code",
     "collapsed": false,
     "input": [
      "# not recommended...\n",
      "months = 70560\n",
      "print(months)"
     ],
     "language": "python",
     "metadata": {},
     "outputs": []
    },
    {
     "cell_type": "markdown",
     "metadata": {},
     "source": [
      "Variables are also case sensitive, accessing *months* is not the same as *Months*"
     ]
    },
    {
     "cell_type": "code",
     "collapsed": false,
     "input": [
      "print(months)"
     ],
     "language": "python",
     "metadata": {},
     "outputs": []
    },
    {
     "cell_type": "code",
     "collapsed": false,
     "input": [
      "print(Months)"
     ],
     "language": "python",
     "metadata": {},
     "outputs": []
    },
    {
     "cell_type": "markdown",
     "metadata": {},
     "source": [
      "-----------------\n",
      "##DIY (Do It Yourself)\n",
      "Take your time to go through the instructions above until you think that you have understood everything, also update your cheat sheet if you want to use it.\n",
      "\n",
      "If you think you are done and the others still need some more time, try to solve the following task \n",
      ">###Task\n",
      "\n",
      ">In *Shining* the main character Jack spends his days typing the famous phrase \"All work and no play makes Jack a dull boy\". Can you help him to write the phrase 4872 times so that he finishes his work earlier and could spent some quality time with his family?     "
     ]
    },
    {
     "cell_type": "code",
     "collapsed": false,
     "input": [
      "#Enter your code here\n"
     ],
     "language": "python",
     "metadata": {},
     "outputs": []
    },
    {
     "cell_type": "markdown",
     "metadata": {},
     "source": [
      "So far we have only assigned numbers such as `2` or `70560` to our variables. Such whole numbers are called 'integers' in programming, because they don't have anymore digits 'after the dot'.  Numbers that *do* have digits after the dot (e.g. `67.278` or `191.200`), are called 'floating-point numbers' in programming or simply 'floats'. Note that Python uses dots in floats, whereas some European languages use a comma here. Both integers and floats can be positive numbers (e.g. `70` or `4.36`) as well as negative numbers (e.g. `-70` or `4.36`). You can just as easily assign floats to variables:"
     ]
    },
    {
     "cell_type": "code",
     "collapsed": false,
     "input": [
      "some_float = 23.987\n",
      "print(some_float)\n",
      "some_float = -4.56\n",
      "print(some_float)"
     ],
     "language": "python",
     "metadata": {},
     "outputs": []
    },
    {
     "cell_type": "markdown",
     "metadata": {},
     "source": [
      "On the whole, the difference between integers and floats is of course important for divisions where you often end up with floats:"
     ]
    },
    {
     "cell_type": "code",
     "collapsed": false,
     "input": [
      "x = 5/2\n",
      "print(x)"
     ],
     "language": "python",
     "metadata": {},
     "outputs": []
    },
    {
     "cell_type": "markdown",
     "metadata": {},
     "source": [
      "Using the operators we have learned about above, we can change the variables in our code as many times as we want. We can assign new values to old variables, just like we can put new or more things in the boxes which we already had. Say, for instance, that yesterday we counted how many books we have in our office and that we stored this count in our code as follows:"
     ]
    },
    {
     "cell_type": "code",
     "collapsed": false,
     "input": [
      "number_of_books = 100"
     ],
     "language": "python",
     "metadata": {},
     "outputs": []
    },
    {
     "cell_type": "markdown",
     "metadata": {},
     "source": [
      "Suppose that we buy a new book for the office today: we can now update our book count accordingly, by adding one to our previous count:"
     ]
    },
    {
     "cell_type": "code",
     "collapsed": false,
     "input": [
      "number_of_books = number_of_books + 1\n",
      "print(number_of_books)"
     ],
     "language": "python",
     "metadata": {},
     "outputs": []
    },
    {
     "cell_type": "markdown",
     "metadata": {},
     "source": [
      "Updates like these happen a lot. Python therefore provides a shortcut and you can write the same thing using `+=`."
     ]
    },
    {
     "cell_type": "code",
     "collapsed": false,
     "input": [
      "number_of_books += 5\n",
      "print(number_of_books)"
     ],
     "language": "python",
     "metadata": {},
     "outputs": []
    },
    {
     "cell_type": "markdown",
     "metadata": {},
     "source": [
      "This special shortcut (`+=`) is called an operator too. Apart from multiplication (`+=`), the operator has variants for subtraction (`-=`), multiplication (`*=`) and division (`/=`) too:"
     ]
    },
    {
     "cell_type": "code",
     "collapsed": false,
     "input": [
      "number_of_books -= 5\n",
      "print(number_of_books)\n",
      "number_of_books *= 2\n",
      "print(number_of_books)\n",
      "number_of_books /= 2\n",
      "print(number_of_books)"
     ],
     "language": "python",
     "metadata": {},
     "outputs": []
    },
    {
     "cell_type": "markdown",
     "metadata": {},
     "source": [
      "----------"
     ]
    },
    {
     "cell_type": "markdown",
     "metadata": {},
     "source": [
      "##DIY"
     ]
    },
    {
     "cell_type": "markdown",
     "metadata": {},
     "source": [
      "This task will a bit more mathematical, but don't worry, we'll explain it step by step.\n",
      "The *wheat and chessboard* problem is a classic in computer science, maybe you have heard about it before:\n",
      "\n",
      "> If a chessboard were to have wheat placed upon each square such that one grain were placed on the first square, two on the second, four on the third, and so on (doubling the number of grains on each subsequent square), how many grains of wheat would be on the chessboard at the finish?\n",
      "\n",
      "It is a time of crisis so we couldn't aford a full virtual chessboard but rather one with ten fields. Can you calculate the number of grains that will be present in the 10th square? And how many grains would there be on the entire chessboard in the end? "
     ]
    },
    {
     "cell_type": "code",
     "collapsed": false,
     "input": [
      "#insert your code here\n",
      "\n",
      "#square 1\n",
      "grains_on_the_square=1\n",
      "\n",
      "#square 2\n",
      "\n",
      "#square 3\n",
      "\n",
      "#square 4\n",
      "\n",
      "#square 5\n",
      "\n",
      "#square 6\n",
      "\n",
      "#square 7\n",
      "\n",
      "#square 8\n",
      "\n",
      "#square 9\n",
      "\n",
      "#square 10\n",
      "\n",
      "\n",
      "print(grains_on_the_square)"
     ],
     "language": "python",
     "metadata": {},
     "outputs": []
    },
    {
     "cell_type": "markdown",
     "metadata": {},
     "source": [
      "--------------"
     ]
    },
    {
     "cell_type": "heading",
     "level": 5,
     "metadata": {},
     "source": [
      "What we have learnt"
     ]
    },
    {
     "cell_type": "markdown",
     "metadata": {},
     "source": [
      "To finish this section, here is an overview of the concepts you have learnt. Go through the list and make sure you understand all the concepts.\n",
      "\n",
      "-  variable\n",
      "-  value\n",
      "-  assignment operator (`=`)\n",
      "-  difference between variables and values\n",
      "-  integers vs. floats\n",
      "-  operators for multiplication (`*`), subtraction (`-`), addition (`+`), division (`/`)\n",
      "-  the shortcut operators: `+=`, `-=`, `*=`, `/=`\n",
      "-  `print()`\n"
     ]
    },
    {
     "cell_type": "markdown",
     "metadata": {},
     "source": [
      "------"
     ]
    },
    {
     "cell_type": "heading",
     "level": 2,
     "metadata": {},
     "source": [
      "Text strings"
     ]
    },
    {
     "cell_type": "markdown",
     "metadata": {},
     "source": [
      "So far, we have only worked with variables that contain numbers (integers like `-5` or `72` or floats like `45.89` or `-5.609`). Note, however, that variables can also contain other things than numbers. Many disciplines within the humanities work on texts. Quite naturally, programming skills for the humanities will have to focus a lot on manipulating texts. Have a look at the code block below, for instance. Here we put *text*, namely the title of a book, as a value inside the variable `book`. Then, we print what is inside the `book` variable."
     ]
    },
    {
     "cell_type": "code",
     "collapsed": false,
     "input": [
      "book = \"The Lord of the Flies\"\n",
      "print(book)"
     ],
     "language": "python",
     "metadata": {},
     "outputs": []
    },
    {
     "cell_type": "markdown",
     "metadata": {},
     "source": [
      "Such a piece of text (\"The Lord of the Flies\") is called a 'string' in Python (cf. a *string* of characters). Strings in Python must always be enclosed with 'quotes' (either single or double quotes). Without those quotes, Python will think it's dealing with the name of some variable that has been defined earlier, because variable names never take quotes. The following distinction is confusing but extremely important: variable names (*without* quotes) and string values (*with* quotes) look similar, but they serve a completely different purpose. Compare:"
     ]
    },
    {
     "cell_type": "code",
     "collapsed": false,
     "input": [
      "name = \"Bonny\"\n",
      "Bonny = \"name\"\n",
      "Clyde = \"Clyde\"\n",
      "print(name)\n",
      "print (Bonny)\n",
      "print(Clyde)"
     ],
     "language": "python",
     "metadata": {},
     "outputs": []
    },
    {
     "cell_type": "markdown",
     "metadata": {},
     "source": [
      "Some of the arithmetic operators we saw earlier can also be used to do useful things with strings. Both the multiplication operator (`*`) and the addition operator (`+`) provide interesting functionality for dealing with strings, as the block below illustrates.\n"
     ]
    },
    {
     "cell_type": "code",
     "collapsed": false,
     "input": [
      "original_string = \"bla\"\n",
      "new_string = 2*original_string\n",
      "print(new_string)\n",
      "new_string = new_string+\"h\"\n",
      "print(new_string)"
     ],
     "language": "python",
     "metadata": {},
     "outputs": []
    },
    {
     "cell_type": "markdown",
     "metadata": {},
     "source": [
      "Adding strings together is called 'string concatenation' or simply 'concatenation' in programming.\n",
      "\n",
      "- Use the block below to find out whether you could can also use the shortcut `+=` operator for adding an 'h' to the variable `original_string`. Don't forget to check the result by printing it!"
     ]
    },
    {
     "cell_type": "code",
     "collapsed": false,
     "input": [
      "original_string = \"blabla\"\n",
      "# add an 'h'..."
     ],
     "language": "python",
     "metadata": {},
     "outputs": []
    },
    {
     "cell_type": "markdown",
     "metadata": {},
     "source": [
      "We now would like you to write some code that defines a variable, `name`, and assign to it a string that is your name. If your first name is shorter than 5 characters, use your last name. If your last name is also shorted than 5 characters, use the combination of you first and last name. Now print the variable containing your name to the screen."
     ]
    },
    {
     "cell_type": "code",
     "collapsed": false,
     "input": [
      "# your code goes here..."
     ],
     "language": "python",
     "metadata": {},
     "outputs": []
    },
    {
     "cell_type": "markdown",
     "metadata": {},
     "source": [
      "Strings are called strings because they consist of a series (or 'string') of individual characters. We can access these individual characters in Python with the help of 'indexing', because each character in a string has a unique index. To print the first letter of your name, you can type:"
     ]
    },
    {
     "cell_type": "code",
     "collapsed": false,
     "input": [
      "first_letter = name[0]\n",
      "print(first_letter)"
     ],
     "language": "python",
     "metadata": {},
     "outputs": []
    },
    {
     "cell_type": "markdown",
     "metadata": {},
     "source": [
      "![Indexes of the string Mr White starting with 0](https://dl.dropboxusercontent.com/u/259394/string_index.png \"Python strings and indexes\")\n",
      "\n",
      "Take a look at the string \"Mr White\". We use the index `0` to access the first character in the string. This might seem odd, but  remember that all indexes in Python start at zero. Whenever you count in Python, you start at `0` instead of `1`. Note that the space character gets an index too, namely 2. This is something you will have to get used to!\n",
      "\n",
      "\n",
      "\n",
      "Because you know the length of your name you can ask for the last letter of your name: "
     ]
    },
    {
     "cell_type": "code",
     "collapsed": false,
     "input": [
      "last_letter = name[# fill in the last index of your name (tip indexes start at 0)]\n",
      "print(last_letter)"
     ],
     "language": "python",
     "metadata": {},
     "outputs": []
    },
    {
     "cell_type": "markdown",
     "metadata": {},
     "source": [
      "It is rather inconvenient having to know how long our strings are if we want to find out what its last letter is. Python provides a simple way of accessing a string 'from the rear':"
     ]
    },
    {
     "cell_type": "code",
     "collapsed": false,
     "input": [
      "last_letter = name[-1]\n",
      "print(last_letter)"
     ],
     "language": "python",
     "metadata": {},
     "outputs": []
    },
    {
     "cell_type": "markdown",
     "metadata": {},
     "source": [
      "To access the last character in a string you have to use the index [-1]. Alternatively, there is the `len()` command which returns the length of a string:"
     ]
    },
    {
     "cell_type": "code",
     "collapsed": false,
     "input": [
      "print(len(name))"
     ],
     "language": "python",
     "metadata": {},
     "outputs": []
    },
    {
     "cell_type": "markdown",
     "metadata": {},
     "source": [
      "Do you understand the following code block? Can you explain what is happening?"
     ]
    },
    {
     "cell_type": "code",
     "collapsed": false,
     "input": [
      "print(name[len(name)-1])"
     ],
     "language": "python",
     "metadata": {},
     "outputs": []
    },
    {
     "cell_type": "markdown",
     "metadata": {},
     "source": [
      "Now can you write some code that defines a variable `but_last_letter` and assigns to this variable the *one but last* letter of your name?"
     ]
    },
    {
     "cell_type": "code",
     "collapsed": false,
     "input": [
      "but_last_letter = # insert your code here\n",
      "print(but_last_letter)"
     ],
     "language": "python",
     "metadata": {},
     "outputs": []
    },
    {
     "cell_type": "markdown",
     "metadata": {},
     "source": [
      "You're starting to become a real expert in indexing strings. Now what if we would like to find out what the last two or three letters of our name are? In Python we can use so-called 'slice-indexes' or 'slices' for short. To find the first two letters of our name we type in:"
     ]
    },
    {
     "cell_type": "code",
     "collapsed": false,
     "input": [
      "first_two_letters = name[0:2]\n",
      "print(first_two_letters)"
     ],
     "language": "python",
     "metadata": {},
     "outputs": []
    },
    {
     "cell_type": "markdown",
     "metadata": {},
     "source": [
      "The `0` index is optional, so we could just as well type in `name[:2]`. This says: take all characters of name until you reach index 2 (i.e. up to the third letter, but not including the third letter). We can also start at index 2 and leave the end index unspecified:"
     ]
    },
    {
     "cell_type": "code",
     "collapsed": false,
     "input": [
      "without_first_two_letters = name[2:]\n",
      "print(without_first_two_letters)"
     ],
     "language": "python",
     "metadata": {},
     "outputs": []
    },
    {
     "cell_type": "markdown",
     "metadata": {},
     "source": [
      "Because we did not specify the end index, Python continues until it reaches the end of our string. If we would like to find out what the last two letters of our name are, we can type in:"
     ]
    },
    {
     "cell_type": "code",
     "collapsed": false,
     "input": [
      "last_two_letters = name[-2:]\n",
      "print(last_two_letters)"
     ],
     "language": "python",
     "metadata": {},
     "outputs": []
    },
    {
     "cell_type": "markdown",
     "metadata": {},
     "source": [
      "-------"
     ]
    },
    {
     "cell_type": "markdown",
     "metadata": {},
     "source": [
      "##DIY"
     ]
    },
    {
     "cell_type": "markdown",
     "metadata": {},
     "source": [
      "- Can you define a variable `middle_letters` and assign to it all letters of your name except for the first two and the last two?"
     ]
    },
    {
     "cell_type": "code",
     "collapsed": false,
     "input": [
      "# insert your code here"
     ],
     "language": "python",
     "metadata": {},
     "outputs": []
    },
    {
     "cell_type": "markdown",
     "metadata": {},
     "source": [
      "- Given the following two words, can you write code that prints out the word *humanities* using only slicing and concatenation? (So, no quotes are allowed in your code.) Can you print out how many characters the word *humanities* counts?"
     ]
    },
    {
     "cell_type": "code",
     "collapsed": false,
     "input": [
      "word1 = \"human\"\n",
      "word2 = \"opportunities\""
     ],
     "language": "python",
     "metadata": {},
     "outputs": []
    },
    {
     "cell_type": "markdown",
     "metadata": {},
     "source": [
      "---------\n",
      "\n",
      "##\"Casting\" variables"
     ]
    },
    {
     "cell_type": "markdown",
     "metadata": {},
     "source": [
      "Above, we have already learned that each variable as a data type: variables can be strings, floats, integers, etc. Sometimes it is necessary to convert one type into the other. Consider this:"
     ]
    },
    {
     "cell_type": "code",
     "collapsed": false,
     "input": [
      "x = \"5\"\n",
      "y = 2\n",
      "print(x + y)"
     ],
     "language": "python",
     "metadata": {},
     "outputs": []
    },
    {
     "cell_type": "markdown",
     "metadata": {},
     "source": [
      "This should raise an error on your machine: does the error message gives you a hint why this doesn't work? *x* is a string, and *y* is an integer. Because of this, you cannot sum them. Luckily there exist ways to 'cast' variables from one type of variable into another type of variable.\n",
      "\n",
      "- Do you understand the outcome of the following code?\n",
      "- Can you comment in your own words on the effect of applying `int()` and `str()` to variables?"
     ]
    },
    {
     "cell_type": "code",
     "collapsed": false,
     "input": [
      "x = \"5\"\n",
      "y = 2\n",
      "print(x + str(y))\n",
      "print(int(x) + y)"
     ],
     "language": "python",
     "metadata": {},
     "outputs": []
    },
    {
     "cell_type": "markdown",
     "metadata": {},
     "source": [
      "Other types of conversions are possible as well, and we will see a couple of them in the next chapters. Because variables can change data type anytime they want, we say that Python uses 'dynamic typing', as opposed to other more 'strict' languages that use 'strong typing'."
     ]
    },
    {
     "cell_type": "markdown",
     "metadata": {},
     "source": [
      "----------"
     ]
    },
    {
     "cell_type": "heading",
     "level": 5,
     "metadata": {},
     "source": [
      "What we have learnt"
     ]
    },
    {
     "cell_type": "markdown",
     "metadata": {},
     "source": [
      "To finish this section, here is an overview of what we have learnt. Go through the list and make sure you understand all the concepts.\n",
      "\n",
      "-  concatenation\n",
      "-  index\n",
      "-  slicing\n",
      "-  `len()`\n",
      "-  type casting: `int()` and `str()`\n",
      "-  dynamic typing vs. strong typing\n"
     ]
    },
    {
     "cell_type": "markdown",
     "metadata": {},
     "source": [
      "-------"
     ]
    },
    {
     "cell_type": "heading",
     "level": 2,
     "metadata": {},
     "source": [
      "Lists"
     ]
    },
    {
     "cell_type": "markdown",
     "metadata": {},
     "source": [
      "Consider the sentence below:"
     ]
    },
    {
     "cell_type": "code",
     "collapsed": false,
     "input": [
      "sentence = \"Python's name is derived from the television series Monty Python's Flying Circus.\""
     ],
     "language": "python",
     "metadata": {},
     "outputs": []
    },
    {
     "cell_type": "markdown",
     "metadata": {},
     "source": [
      "Words are made up of characters, and so are strings in Python, like the string stored in the variable `sentence` in the block above. For the sentence above, it might seem more natural for humans to describe it as a series of words, rather than as a series of characters. Say we want to access the first word in our sentence. If we type in:"
     ]
    },
    {
     "cell_type": "code",
     "collapsed": false,
     "input": [
      "first_word = sentence[0]\n",
      "print(first_word)"
     ],
     "language": "python",
     "metadata": {},
     "outputs": []
    },
    {
     "cell_type": "markdown",
     "metadata": {},
     "source": [
      "Python only prints the first *character* of our sentence. (Think about this if you do not understand why.) We can transform our sentence into a `list` of words (represented by strings) using the `split()` function as follows: "
     ]
    },
    {
     "cell_type": "code",
     "collapsed": false,
     "input": [
      "words = sentence.split()\n",
      "print(words)"
     ],
     "language": "python",
     "metadata": {},
     "outputs": []
    },
    {
     "cell_type": "markdown",
     "metadata": {},
     "source": [
      "Make sure that you understand the syntax of this code! We call things like `split()` 'functions': functions provide small pieces of helpful, ready-made functionality that we can use in our own code. Here, we apply the `split()` function to the variable `sentence` and we assign the result of the function (we call this the 'return value' of the function) to the new variable `words`.\n",
      "\n",
      "By default, the split() function in Python will split strings on the spaces between consecutive words and it will returns a list of words. However, if we can pass an extra argument to `split()`, namely the string we would like to split on. In the code block below, we will split a string on commas, instead of spaces. Do you get the syntax?"
     ]
    },
    {
     "cell_type": "code",
     "collapsed": false,
     "input": [
      "fruitstring = \"banana,pear,apple\"\n",
      "fruitlist = fruitstring.split(\",\")\n",
      "print(fruitlist)"
     ],
     "language": "python",
     "metadata": {},
     "outputs": []
    },
    {
     "cell_type": "markdown",
     "metadata": {},
     "source": [
      "The reverse of the `split()` function can be accomplished with `join()`, it turns a list into a string, with a specific 'delimiter' or the string you want to use to join the items."
     ]
    },
    {
     "cell_type": "code",
     "collapsed": false,
     "input": [
      "fruitlist = ['banana', 'pear', 'apple']\n",
      "delimiter = \",\"\n",
      "fruitstring = delimiter.join(fruitlist)\n",
      "print(fruitstring)"
     ],
     "language": "python",
     "metadata": {},
     "outputs": []
    },
    {
     "cell_type": "markdown",
     "metadata": {},
     "source": [
      "The above four lines can be accomplished in a single line if code, can you figure out how? (Tip: replace all variables by their values)"
     ]
    },
    {
     "cell_type": "markdown",
     "metadata": {},
     "source": [
      "---"
     ]
    },
    {
     "cell_type": "heading",
     "level": 3,
     "metadata": {},
     "source": [
      "replace()"
     ]
    },
    {
     "cell_type": "markdown",
     "metadata": {},
     "source": [
      "The `replace()` function replaces occurrences of a specified substring with another.\n",
      "\n"
     ]
    },
    {
     "cell_type": "code",
     "collapsed": false,
     "input": [
      "text = \"You can not compare apples and pears\"\n",
      "text = text.replace(\"pears\", \"apples\")\n",
      "text = text.replace(\"not\", \"\")\n",
      "print(text)"
     ],
     "language": "python",
     "metadata": {},
     "outputs": []
    },
    {
     "cell_type": "markdown",
     "metadata": {},
     "source": [
      "##DIY"
     ]
    },
    {
     "cell_type": "code",
     "collapsed": false,
     "input": [
      "text = \"Research has shown that it is often still possible to understand text even if all vowels are removed\"\n",
      "# insert your code here.. I suppose it's obvious what we want you to do ;)\n",
      "print(text)"
     ],
     "language": "python",
     "metadata": {},
     "outputs": []
    },
    {
     "cell_type": "markdown",
     "metadata": {},
     "source": [
      "---"
     ]
    },
    {
     "cell_type": "markdown",
     "metadata": {},
     "source": [
      "Python has two functions for changing the case of a string. `lower()` converts a string to lowercase characters and `upper()` returns an upper-case version"
     ]
    },
    {
     "cell_type": "code",
     "collapsed": false,
     "input": [
      "my_string = \"AllCaps\"\n",
      "print(my_string().lower())\n",
      "print(my_string().upper())"
     ],
     "language": "python",
     "metadata": {},
     "outputs": []
    },
    {
     "cell_type": "markdown",
     "metadata": {},
     "source": [
      "---"
     ]
    },
    {
     "cell_type": "markdown",
     "metadata": {},
     "source": [
      "##DIY"
     ]
    },
    {
     "cell_type": "markdown",
     "metadata": {},
     "source": [
      "-  Can you come up with your own sentence `my_sentence` and split it into words along spaces? Print the new list of words!\n",
      "-  You can recognize functions because they are always followed by (round brackets). Apart from the `split()` function, we already encountered other functions: which ones? Can you describe their functionality? Are there any differences in terms of syntax when you compare these to `split()`?\n",
      "-  Is there any difference in length for Python between the variables `sentence` and `words`? (Use functions to find this out!)"
     ]
    },
    {
     "cell_type": "code",
     "collapsed": false,
     "input": [
      "# your DIY code goes here..."
     ],
     "language": "python",
     "metadata": {},
     "outputs": []
    },
    {
     "cell_type": "markdown",
     "metadata": {},
     "source": [
      "In many ways, list variables are very similar to strings. We can for example access its components using indexes and we can use slice indexes to access parts of the list. Let's try it!\n",
      "\n",
      "Write a small program that defines a variable `first_word` and assign to it the first word of our word list `words`. Do the same for the fifth word, the last word and the last but one word! Also, try to take slice from `words` and extract the string of words between `derived` and `Flying` (the slice should not include `derived` and `Flying`). Also, make a slice of words that is identical to the title of the television series in `words`.   "
     ]
    },
    {
     "cell_type": "code",
     "collapsed": false,
     "input": [
      "first_word = \"...\" # insert your code here"
     ],
     "language": "python",
     "metadata": {},
     "outputs": []
    },
    {
     "cell_type": "markdown",
     "metadata": {},
     "source": [
      "---------------"
     ]
    },
    {
     "cell_type": "markdown",
     "metadata": {},
     "source": [
      "A `list` acts like some kind of container where we can store all kinds of information. We can access a list using indexes and slices. We can also add new items to a list. For that you use the function `append()`. Let's see how it works. Say we want to keep a list of all our good reads. We first declare an empty list using square brackets ([]). Next, we add some good books to the list:"
     ]
    },
    {
     "cell_type": "code",
     "collapsed": false,
     "input": [
      "# start with an empty list\n",
      "good_reads = []\n",
      "good_reads.append(\"The Hunger games\")\n",
      "good_reads.append(\"A Clockwork Orange\")\n",
      "print(good_reads)"
     ],
     "language": "python",
     "metadata": {},
     "outputs": []
    },
    {
     "cell_type": "markdown",
     "metadata": {},
     "source": [
      "Do you get the syntax that goes with the `append()` function? The list we wish to append the item to goes first and we join the append() function to this list using a dot (`.`). In between the round brackets that go with the function name, we place the actual string that we wish to add to the list. We call such a input value an 'argument' or a 'parameter' that we 'pass' to a function. Next, the function will return a 'return value'. Make sure that you are familiar with this terminology because you will often come across such terms when you look for help online!\n",
      "\n",
      "Now, if for some reason we don't like a particular book anymore, we can change it as follows using the old item's index:"
     ]
    },
    {
     "cell_type": "code",
     "collapsed": false,
     "input": [
      "good_reads[0] = \"Pride and Prejudice\"\n",
      "print(good_reads)"
     ],
     "language": "python",
     "metadata": {},
     "outputs": []
    },
    {
     "cell_type": "markdown",
     "metadata": {},
     "source": [
      "As you see, it is no problem to reset or update an individual item in a list. This is different, however, for strings. Run the following code in which we try to change a single character in a string. This will raise an error -- this is your computer signalling that something is wrong. This is because `strings` (and some other types) are *immutable*. That is, they cannot be changed, as opposed to `list`s which *are* mutable."
     ]
    },
    {
     "cell_type": "code",
     "collapsed": false,
     "input": [
      "name = \"Bonny\"\n",
      "name[3] = \"t\""
     ],
     "language": "python",
     "metadata": {},
     "outputs": []
    },
    {
     "cell_type": "markdown",
     "metadata": {},
     "source": [
      "--------"
     ]
    },
    {
     "cell_type": "markdown",
     "metadata": {},
     "source": [
      "##DYI"
     ]
    },
    {
     "cell_type": "markdown",
     "metadata": {},
     "source": [
      "Here's another small DIY! Add two new titles to the list of `good_reads`. Then, try to change the title of the second book in our good reads collection:"
     ]
    },
    {
     "cell_type": "code",
     "collapsed": false,
     "input": [
      "# insert your code here\n",
      "print(good_reads)"
     ],
     "language": "python",
     "metadata": {},
     "outputs": []
    },
    {
     "cell_type": "markdown",
     "metadata": {},
     "source": [
      "-------------------------------"
     ]
    },
    {
     "cell_type": "markdown",
     "metadata": {},
     "source": [
      "Lists are a really powerful of dealing with your data in Python. Let's explore some other ways in which we can manipulate lists."
     ]
    },
    {
     "cell_type": "heading",
     "level": 4,
     "metadata": {},
     "source": [
      "remove()"
     ]
    },
    {
     "cell_type": "markdown",
     "metadata": {},
     "source": [
      "Let's assume our good read collection has grown a lot and we would like to remove some of the books from the list. Python provides the function `remove()` that you can call on a list and which takes as argument the item we would like to remove. "
     ]
    },
    {
     "cell_type": "code",
     "collapsed": false,
     "input": [
      "good_reads = [\"The Hunger games\", \"A Clockwork Orange\", \n",
      "             \"Pride and Prejudice\", \"Water for Elephants\",\n",
      "good_reads.remove(\"Water for Elephants\")\n",
      "\n",
      "print(good_reads)"
     ],
     "language": "python",
     "metadata": {},
     "outputs": []
    },
    {
     "cell_type": "markdown",
     "metadata": {},
     "source": [
      "If we try to remove a book that is not in our collection, Python raises an error to signal that something is wrong."
     ]
    },
    {
     "cell_type": "code",
     "collapsed": false,
     "input": [
      "good_reads.remove(\"White Oleander\")"
     ],
     "language": "python",
     "metadata": {},
     "outputs": []
    },
    {
     "cell_type": "markdown",
     "metadata": {},
     "source": [
      "Note, however, that `remove()` will only delete the *first* item in the list that is identical to the parameter which you passed to the function. Execute the code in the block below and you will see that only the first instance of \"Pride and Prejudice\" gets deleted."
     ]
    },
    {
     "cell_type": "code",
     "collapsed": false,
     "input": [
      "good_reads = [\"The Hunger games\", \"A Clockwork Orange\", \n",
      "             \"Pride and Prejudice\", \"Water for Elephants\", \"Pride and Prejudice\"]\n",
      "good_reads.remove(\"Pride and Prejudice\")\n",
      "print(good_reads)"
     ],
     "language": "python",
     "metadata": {},
     "outputs": []
    },
    {
     "cell_type": "markdown",
     "metadata": {},
     "source": [
      "--------"
     ]
    },
    {
     "cell_type": "markdown",
     "metadata": {},
     "source": [
      "##DIY"
     ]
    },
    {
     "cell_type": "markdown",
     "metadata": {},
     "source": [
      "Have a look at the code block below and read the dicussion of commenting on Python code using hashtags. Then, define a variable `good_reads` as an empty list. Now add some of your favorite books to it (at least three) and print the last two books you added. Then remove the third book in the list. Finally, comment on every line of code."
     ]
    },
    {
     "cell_type": "code",
     "collapsed": false,
     "input": [
      "# comment: insert your code here.\n",
      "# BTW: Have you noticed that everything behind the hashtag \n",
      "print(\"Something...\") # on a line is ignored by your python interpreter?\n",
      "print(\"and something else..\") # this is really helpful to comment on your code!\n",
      "\"\"\"Another way\n",
      "of commenting on your code is via \n",
      "triple quotes -- these can be distributed over multiple \"\"\" # lines\n",
      "print(\"Note that you can also use\")\n",
      "'''single triple quotes,\n",
      "distributed over multiple lines'''"
     ],
     "language": "python",
     "metadata": {},
     "outputs": []
    },
    {
     "cell_type": "markdown",
     "metadata": {},
     "source": [
      "Let's recap: how many ways are there to comment on your code in Python? "
     ]
    },
    {
     "cell_type": "markdown",
     "metadata": {},
     "source": [
      "------"
     ]
    },
    {
     "cell_type": "markdown",
     "metadata": {},
     "source": [
      "Just as with strings, we can concatenate two lists using the `+` operator. Here is an example:"
     ]
    },
    {
     "cell_type": "code",
     "collapsed": false,
     "input": [
      "# first we specify two lists of strings:\n",
      "good_reads = [\"The Hunger games\", \"A Clockwork Orange\", \n",
      "              \"Pride and Prejudice\", \"Water for Elephants\",\n",
      "              \"The Shadow of the Wind\", \"Bel Canto\"]\n",
      "bad_reads = [\"Fifty Shades of Grey\", \"Twilight\"]\n",
      "\n",
      "# then we combine them\n",
      "all_reads = good_reads + bad_reads\n",
      "print(all_reads)"
     ],
     "language": "python",
     "metadata": {},
     "outputs": []
    },
    {
     "cell_type": "heading",
     "level": 4,
     "metadata": {},
     "source": [
      "sort()"
     ]
    },
    {
     "cell_type": "markdown",
     "metadata": {},
     "source": [
      "It is always nice to organise your bookshelf. We can sort our collection alphabetically with the following expression:"
     ]
    },
    {
     "cell_type": "code",
     "collapsed": false,
     "input": [
      "good_reads.sort()\n",
      "print(good_reads)"
     ],
     "language": "python",
     "metadata": {},
     "outputs": []
    },
    {
     "cell_type": "heading",
     "level": 4,
     "metadata": {},
     "source": [
      "nested lists"
     ]
    },
    {
     "cell_type": "markdown",
     "metadata": {},
     "source": [
      "Until now our lists only consisted of strings. However, a list can contain all kinds of data types, such as integers and even lists! Do you understand what is happening in the following example? Have a close look at the square brackets used."
     ]
    },
    {
     "cell_type": "code",
     "collapsed": false,
     "input": [
      "nested_list = [[1, 2, 3, 4], [5, 6, 7, 8]]\n",
      "print(nested_list[0])\n",
      "print(nested_list[0][0])\n",
      "print(nested_list[1][2])\n",
      "print(nested_list[0][:-2])"
     ],
     "language": "python",
     "metadata": {},
     "outputs": []
    },
    {
     "cell_type": "markdown",
     "metadata": {},
     "source": [
      "We can put this to use to enhance our good read collection with a score for every book we have. An entry in our collection will consist of a score within the range of `1` and `10` and the title of our book. The first element is the title; the second the score `[title, score]`. We initialize an empty list:"
     ]
    },
    {
     "cell_type": "code",
     "collapsed": false,
     "input": [
      "good_reads = []"
     ],
     "language": "python",
     "metadata": {},
     "outputs": []
    },
    {
     "cell_type": "markdown",
     "metadata": {},
     "source": [
      "And add two books to it:"
     ]
    },
    {
     "cell_type": "code",
     "collapsed": false,
     "input": [
      "good_reads.append([\"Pride and Prejudice\", 8])\n",
      "good_reads.append([\"A Clockwork Orange\", 9])"
     ],
     "language": "python",
     "metadata": {},
     "outputs": []
    },
    {
     "cell_type": "markdown",
     "metadata": {},
     "source": [
      "---------"
     ]
    },
    {
     "cell_type": "markdown",
     "metadata": {},
     "source": [
      "##DIY"
     ]
    },
    {
     "cell_type": "markdown",
     "metadata": {},
     "source": [
      "Update the `good_reads` collection with some of your own books and give them all a score and a publication year. Can you print out the score you gave to the first book in the list? And the publication year of the third item in your list? (Hint: you can pile up indexes using square brackets!)"
     ]
    },
    {
     "cell_type": "code",
     "collapsed": false,
     "input": [
      "# insert your code here"
     ],
     "language": "python",
     "metadata": {},
     "outputs": []
    },
    {
     "cell_type": "markdown",
     "metadata": {},
     "source": [
      "-----------"
     ]
    },
    {
     "cell_type": "heading",
     "level": 5,
     "metadata": {},
     "source": [
      "What we have learnt"
     ]
    },
    {
     "cell_type": "markdown",
     "metadata": {},
     "source": [
      "To finish this section, here is an overview of the new concepts you have learnt. Go through them and make sure you understand them all.\n",
      "\n",
      "-  lists\n",
      "-  nested lists\n",
      "-  *mutable* versus *immutable*\n",
      "-  `.split()` vs. `.join()`\n",
      "-  `.append()`\n",
      "-  `.remove()`\n",
      "-  `.sort()`\n",
      "-  `.upper()` vs. `.lower()`"
     ]
    },
    {
     "cell_type": "markdown",
     "metadata": {},
     "source": [
      "-------------"
     ]
    },
    {
     "cell_type": "markdown",
     "metadata": {},
     "source": [
      "##There is no Santa Claus\n",
      "The functions you just learned are amazingly helpful whenever you need to deal with text. But where do they actually come from? Who created them and why?\n",
      "\n",
      "The truth is that all the different variables you have created before are actually something that is called *objects* in computer science.\n",
      "So far so good, but what is an object?\n",
      "\n",
      "Let's see how Steve Jobs explained objects back in the days when object-oriented programming was the new black.\n",
      "\n",
      ">**Would you explain, in simple terms, exactly what object-oriented software is?**\n",
      "Objects are like people. They're living, breathing things that have knowledge inside them about how to do things and have memory inside them so they can remember things. And rather than interacting with them at a very low level, you interact with them at a very high level of abstraction, like we're doing right here.\n",
      "\n",
      ">Here's an example: If I'm your laundry object, you can give me your dirty clothes and send me a message that says, \"Can you get my clothes laundered, please.\" I happen to know where the best laundry place in San Francisco is. And I speak English, and I have dollars in my pockets. So I go out and hail a taxicab and tell the driver to take me to this place in San Francisco. I go get your clothes laundered, I jump back in the cab, I get back here. I give you your clean clothes and say, \"Here are your clean clothes.\"\n",
      "\n",
      ">You have no idea how I did that. You have no knowledge of the laundry place. Maybe you speak French, and you can't even hail a taxi. You can't pay for one, you don't have dollars in your pocket. Yet I knew how to do all of that. And you didn't have to know any of it. All that complexity was hidden inside of me, and we were able to interact at a very high level of abstraction. That's what objects are. They encapsulate complexity, and the interfaces to that complexity are high level.\n",
      ">See [Steve Jobs in 1994: The Rolling Stone Interview](http://www.rollingstone.com/culture/news/steve-jobs-in-1994-the-rolling-stone-interview-20110117)"
     ]
    },
    {
     "cell_type": "markdown",
     "metadata": {},
     "source": [
      "Maybe this workshop will inspire you to change your ways, to walk the earth and to become a computer scientist (or an engineer which is way more cool). But much more likely you will use objects in your daily life to build on the work of others and thats what objects are great for. In the course of the next days we will encounter and explore a whole bunch of objects and at the last day you will also learn how to create objects on your own. \n",
      "\n",
      "But now, let's try to figure out what objects can do for you. The iPython notebook is a great tool to do exactly this.\n",
      "\n",
      "In the first box below we create a new object by assigning a string to a name.  "
     ]
    },
    {
     "cell_type": "code",
     "collapsed": false,
     "input": [
      "#thats our new string object. Run this box to initialize the object\n",
      "jules=\"The path of the righteous man is beset on all sides by the inequities of the selfish and the tyranny of evil men.\""
     ],
     "language": "python",
     "metadata": {},
     "outputs": []
    },
    {
     "cell_type": "markdown",
     "metadata": {},
     "source": [
      "As we use a string, Python automatically uses an object of the class \"string\". As you will see it does the same for integers and floats and in general you don't need to explicitely state what kind of object you want to create.\n",
      "Now try to figure out what we can do with the object. \n",
      "\n",
      "* After the name of the object place a dot . without leaving a space before or after the . \n",
      "* Now press the TAB key on your keyboard.\n",
      "* Select one of the functions that you want to learn about and press ENTER\n",
      "* Now enter a round opening bracket ( \n",
      "* The documentation of the function (or more precisely method as it is a function that exists only within an object) should appear\n",
      "* You can keep on pressing the TAB key and further details about the function should appear"
     ]
    },
    {
     "cell_type": "code",
     "collapsed": false,
     "input": [
      "#explore what you can do with a string object\n",
      "jules"
     ],
     "language": "python",
     "metadata": {},
     "outputs": []
    },
    {
     "cell_type": "markdown",
     "metadata": {},
     "source": [
      "But how do you figure out the kind of object that we are dealing with? For this you can use the build-in function type()"
     ]
    },
    {
     "cell_type": "code",
     "collapsed": false,
     "input": [
      "type(jules)"
     ],
     "language": "python",
     "metadata": {},
     "outputs": []
    },
    {
     "cell_type": "markdown",
     "metadata": {},
     "source": [
      "---------"
     ]
    },
    {
     "cell_type": "markdown",
     "metadata": {},
     "source": [
      "##DIY\n",
      "\n",
      "Read the section above carefully, if you understand everything try to answer this question: In the text above we use one concept that is not further explained. What is it and what do you think does it mean?"
     ]
    },
    {
     "cell_type": "markdown",
     "metadata": {},
     "source": [
      "------------"
     ]
    },
    {
     "cell_type": "heading",
     "level": 2,
     "metadata": {},
     "source": [
      "Dictionaries"
     ]
    },
    {
     "cell_type": "markdown",
     "metadata": {},
     "source": [
      "Our little good reads collection is starting to look quite impressive and we can perform all kinds of manipulations on it. Now, imagine that our list is large and we would like to look up the score we gave to a particular book. How are we going to find that book? For this purpose Python provides another more appropriate data structure, named `dictionary`. A `dictionary` is similar to the dictionaries you have at home. It consists of entries, or keys, that hold a value. Let's define one:"
     ]
    },
    {
     "cell_type": "code",
     "collapsed": false,
     "input": [
      "my_dict = {\"book\": \"physical objects consisting of a number of pages bound together\",\n",
      "           \"sword\": \"a cutting or thrusting weapon that has a long metal blade\",\n",
      "           \"pie\": \"dish baked in pastry-lined pan often with a pastry top\"}"
     ],
     "language": "python",
     "metadata": {},
     "outputs": []
    },
    {
     "cell_type": "markdown",
     "metadata": {},
     "source": [
      "Take a close look at the new syntax. Notice the curly brackets and the colons. To look up the value of a given key, we `index' the dictionary using that key:"
     ]
    },
    {
     "cell_type": "code",
     "collapsed": false,
     "input": [
      "description = my_dict[\"sword\"]\n",
      "print(description)"
     ],
     "language": "python",
     "metadata": {},
     "outputs": []
    },
    {
     "cell_type": "markdown",
     "metadata": {},
     "source": [
      "Like lists, dictionaries are mutable which means we can add and remove entries from it. Let's define an empty dictionary and add some books to it. The titles will be our keys and the scores their values. Watch the syntax to add a new entry:"
     ]
    },
    {
     "cell_type": "code",
     "collapsed": false,
     "input": [
      "good_reads = {}\n",
      "good_reads[\"Pride and Prejudice\"] = 8\n",
      "good_reads[\"A Clockwork Orange\"] = 9"
     ],
     "language": "python",
     "metadata": {},
     "outputs": []
    },
    {
     "cell_type": "markdown",
     "metadata": {},
     "source": [
      "In in way this is similar to what we have seen before when we altered our book `list`. There we indexed the list using a integer to access a particular book. Here we directly use the title of the book. Can you imagine why this is so useful?"
     ]
    },
    {
     "cell_type": "markdown",
     "metadata": {},
     "source": [
      "--------"
     ]
    },
    {
     "cell_type": "markdown",
     "metadata": {},
     "source": [
      "##DIY"
     ]
    },
    {
     "cell_type": "markdown",
     "metadata": {},
     "source": [
      "Update the new good reads datastructure with your own books. Try to print out the score your gave for one of the books."
     ]
    },
    {
     "cell_type": "code",
     "collapsed": false,
     "input": [
      "# put your code here"
     ],
     "language": "python",
     "metadata": {},
     "outputs": []
    },
    {
     "cell_type": "markdown",
     "metadata": {},
     "source": [
      "----------"
     ]
    },
    {
     "cell_type": "heading",
     "level": 4,
     "metadata": {},
     "source": [
      "keys(), values()"
     ]
    },
    {
     "cell_type": "markdown",
     "metadata": {},
     "source": [
      "To retrieve a list of all the books we have in our collection, we can ask the dictionary to return its keys as a list:"
     ]
    },
    {
     "cell_type": "code",
     "collapsed": false,
     "input": [
      "good_reads.keys()"
     ],
     "language": "python",
     "metadata": {},
     "outputs": []
    },
    {
     "cell_type": "markdown",
     "metadata": {},
     "source": [
      "Similarly we can ask for the values:"
     ]
    },
    {
     "cell_type": "code",
     "collapsed": false,
     "input": [
      "good_reads.values()"
     ],
     "language": "python",
     "metadata": {},
     "outputs": []
    },
    {
     "cell_type": "markdown",
     "metadata": {},
     "source": [
      "---------"
     ]
    },
    {
     "cell_type": "heading",
     "level": 5,
     "metadata": {},
     "source": [
      "What we have learnt"
     ]
    },
    {
     "cell_type": "markdown",
     "metadata": {},
     "source": [
      "To finish this section, here is an overview of the new concepts and functions you have learnt. Make sure you understand them all.\n",
      "\n",
      "-  dictionary\n",
      "-  indexing or accessing keys of dictionaries\n",
      "-  adding items to a dictionary\n",
      "-  `.keys()`\n",
      "-  `.values()`"
     ]
    },
    {
     "cell_type": "markdown",
     "metadata": {},
     "source": [
      "##Final Exercices Chapter 1"
     ]
    },
    {
     "cell_type": "markdown",
     "metadata": {},
     "source": [
      "Inspired by *Think Python* by Allen B. Downey (http://thinkpython.com), *Introduction to Programming Using Python* by Y. Liang (Pearson, 2013). Some exercices below have been taken from: http://www.ling.gu.se/~lager/python_exercises.html."
     ]
    },
    {
     "cell_type": "markdown",
     "metadata": {},
     "source": [
      "-  Suppose the cover price of a book is 24.95 EUR, but bookstores get a 40 percent discount. Shipping costs 3 EUR for the first copy and 75 cents for each additional copy. What is the total wholesale cost for 60 copies? Print the result in a pretty fashion!"
     ]
    },
    {
     "cell_type": "code",
     "collapsed": false,
     "input": [
      "# your code goes here"
     ],
     "language": "python",
     "metadata": {},
     "outputs": []
    },
    {
     "cell_type": "markdown",
     "metadata": {},
     "source": [
      "-  Can you identify and explain the errors in the following lines of code? Correct them please!"
     ]
    },
    {
     "cell_type": "code",
     "collapsed": false,
     "input": [
      "print(\"A message\").\n",
      "print(\"A message')\n",
      "print('A message\"')"
     ],
     "language": "python",
     "metadata": {},
     "outputs": []
    },
    {
     "cell_type": "markdown",
     "metadata": {},
     "source": [
      "-  When something is wrong with your code, Python will raise errors. Often these will be 'syntax errors' that signal that something is wrong with the form of your code (i.e. a `SyntaxError` like the one thrown in the previous exercice). There are also 'runtime errors' that signal that your code was in itself formally correct, but that something went wrong during the code's execution. A good example is the `ZeroDivisionError`. Try to make Python throw such a ZeroDivisionError!"
     ]
    },
    {
     "cell_type": "code",
     "collapsed": false,
     "input": [
      "# ZeroDivisionError"
     ],
     "language": "python",
     "metadata": {},
     "outputs": []
    },
    {
     "cell_type": "markdown",
     "metadata": {},
     "source": [
      "- Can you make Python print the following graphic?\n",
      "![Fun with Python](https://dl.dropboxusercontent.com/u/28211242/fun.png \"Fun pattern with Python\")\n"
     ]
    },
    {
     "cell_type": "code",
     "collapsed": false,
     "input": [
      "# fun pattern"
     ],
     "language": "python",
     "metadata": {},
     "outputs": []
    },
    {
     "cell_type": "markdown",
     "metadata": {},
     "source": [
      "- Write a program that assigns the result of `9.5 * 4.5 - 2.5 * 3 45.5 - 3.5` to a variable. Print this variable. Use round brackets to indicate 'operator precedence' and make sure that multiplications are performed before subtractions. When you convert the outcome to a string, how many characters does it count? Can you print the decimal part of this part using the `split()` function?"
     ]
    },
    {
     "cell_type": "code",
     "collapsed": false,
     "input": [
      "# formula"
     ],
     "language": "python",
     "metadata": {},
     "outputs": []
    },
    {
     "cell_type": "markdown",
     "metadata": {},
     "source": [
      "- Define the variables `a=2`, b=`20007` and c=`5`. Using only the operations you learned about above, can you now print the following numbers: `2005`, `252525252`, `2510`, `-60025` and `2002507`? (Hint: use type casting and string slicing to access parts of the original numbers!) "
     ]
    },
    {
     "cell_type": "code",
     "collapsed": false,
     "input": [
      "# numbers"
     ],
     "language": "python",
     "metadata": {},
     "outputs": []
    },
    {
     "cell_type": "markdown",
     "metadata": {},
     "source": [
      "-  Define three variables names `var1`, `var2` and `var3`. Calculate the average of these variables and assign it to `average`. Print the result in a fancy manner. Add three comments to this piece of code using three different ways."
     ]
    },
    {
     "cell_type": "code",
     "collapsed": false,
     "input": [
      "# average code"
     ],
     "language": "python",
     "metadata": {},
     "outputs": []
    },
    {
     "cell_type": "markdown",
     "metadata": {},
     "source": [
      "-  Write a little program that can compute the surface of circle, using the variables `radius` and `pi=3.14159`. The formula is of course radius, multiplied by radius, multiplied by `pi`. Print the outcome of your program as follows: 'The surface area of a circle with radius ... is: ...'."
     ]
    },
    {
     "cell_type": "code",
     "collapsed": false,
     "input": [
      "# circle code"
     ],
     "language": "python",
     "metadata": {},
     "outputs": []
    },
    {
     "cell_type": "markdown",
     "metadata": {},
     "source": [
      "- Consider the following strings `sentence1 = \"Mike and Lars kick the bucket\"` and `sentence2 = \"Bonny and Clyde are really famous\"`. Split these strings into words and create the following strings via list manipulation: `sentence3 = \"Mike and Lars are really famous\"` and `sentence4=\"Bonny+Clyde+are+really+famous\"`. Can you print the middle letter of the fourth sentence? How can you calculate the middle letters position using the modulus operator?"
     ]
    },
    {
     "cell_type": "code",
     "collapsed": false,
     "input": [
      "# code"
     ],
     "language": "python",
     "metadata": {},
     "outputs": []
    },
    {
     "cell_type": "markdown",
     "metadata": {},
     "source": [
      "- Now, let us get some cryptography done!\n",
      "\n",
      "> ROT13 is a weak form of encryption that involves \"rotating\" each letter in a word by 13 places. To rotate a letter means to shift it through the alphabet, wrapping around to the beginning if necessary, so `A` shifted by 3 is `D` and `Z` shifted by 1 is `A`. Define a string called `rotate_word` and an integer variable called `amount`. Now write a Python script that contains the letters from the `rotate_word`, but \"rotated\" by the given `amount`. Check your code using the following examples: 'cheer' rotated by 7 is 'jolly' and 'melon' rotated by -10 is 'cubed'. You might want to use the built-in function `ord()`, which converts a character to a numeric\n",
      "code, and `chr()`, which converts numeric codes to characters."
     ]
    },
    {
     "cell_type": "code",
     "collapsed": false,
     "input": [
      "# ROT13 code"
     ],
     "language": "python",
     "metadata": {},
     "outputs": []
    },
    {
     "cell_type": "markdown",
     "metadata": {},
     "source": [
      "-  Consider the `lookup` dictionary below. The following letters are still missing from it: 'k':'kilo', 'l':'lima', 'm':'mike'. Add them to `lookup`! Could you spell the word \"marvellous\" in code language now? Collect these codes into the list object `msg`. Next, join the items in this list together with a comma and print the spelled out version!\n",
      "\n",
      "> lookup = {'a':'alfa', 'b':'bravo', 'c':'charlie', 'd':'delta', 'e':'echo', 'f':'foxtrot', 'g':'golf', 'h':'hotel', 'i':'india', 'j':'juliett', 'n':'november', 'o':'oscar', 'p':'papa', 'q':'quebec', 'r':'romeo', 's':'sierra', 't':'tango', 'u':'uniform', 'v':'victor', 'w':'whiskey', 'x':'x-ray', 'y':'yankee', 'z':'zulu'}\n"
     ]
    },
    {
     "cell_type": "code",
     "collapsed": false,
     "input": [
      "# code"
     ],
     "language": "python",
     "metadata": {},
     "outputs": []
    },
    {
     "cell_type": "markdown",
     "metadata": {},
     "source": [
      "- There is one operator (like the ones for multiplication and subtraction) that we did not mention yet, namely the modulus operator `%`. Could you figure by yourself what it does when you place it between two numbers (e.g. 113 % 9)? (PS: It's OK to get help online...) You don't need this operator all that often, but when you do it comes in really handy!"
     ]
    },
    {
     "cell_type": "code",
     "collapsed": false,
     "input": [
      "# try out the modulus operator!"
     ],
     "language": "python",
     "metadata": {},
     "outputs": []
    },
    {
     "cell_type": "markdown",
     "metadata": {},
     "source": [
      "- Can you use the modulus operator you just learned about to solve the following task? \n",
      "\n",
      "> Write a code block that classifies a given amount of money into smaller monetary units. Set the `amount` variable to 11.56. You code should outputs a report listing the monetary equivalent in dollars, quarters, dimes, nickels, and pennies.\n",
      "Your program should report the maximum number of dollars, then the number of quarters, dimes, nickels, and pennies, in this order, to result in the minimum number of coins.\n",
      "Here are the steps in developing the program: Convert the amount (11.56) into cents (1156). Divide the cents by 100 to find the number of dollars. Obtain the remaining cents using\n",
      "the cents remainder % 100. Divide the remaining cents by 25 to find the number of quarters. Obtain the remaining cents using the remaining cents remainder % 25. Divide the remaining cents by 10 to find the number of dimes. Obtain the remaining cents using the remaining cents remainder % 10. Divide the remaining cents by 5 to find the number of nickels. Obtain the remaining\n",
      "cents using the remaining cents remainder % 5. The remaining cents are the pennies. Now display the result for your cashier!\n"
     ]
    },
    {
     "cell_type": "code",
     "collapsed": false,
     "input": [
      "# cashier code"
     ],
     "language": "python",
     "metadata": {},
     "outputs": []
    },
    {
     "cell_type": "markdown",
     "metadata": {},
     "source": [
      "You've reached the end of Chapter 1! Ignore the code block below -- it's only here to make the page prettier."
     ]
    },
    {
     "cell_type": "code",
     "collapsed": false,
     "input": [
      "from IPython.core.display import HTML\n",
      "def css_styling():\n",
      "    styles = open(\"styles/custom.css\", \"r\").read()\n",
      "    return HTML(styles)\n",
      "css_styling()"
     ],
     "language": "python",
     "metadata": {},
     "outputs": [
      {
       "html": [
        "<style>\n",
        "    @font-face {\n",
        "        font-family: \"Computer Modern\";\n",
        "        src: url('http://mirrors.ctan.org/fonts/cm-unicode/fonts/otf/cmunss.otf');\n",
        "    }\n",
        "    div.cell {\n",
        "        width:800px;\n",
        "        margin-left:auto;\n",
        "        margin-right:auto;\n",
        "    }\n",
        "    div.cell, .input.hbox {\n",
        "    display:block;\n",
        "}\n",
        "    h1 {\n",
        "        font-family: \"Charis SIL\", Palatino, serif;\n",
        "    }\n",
        "    h4{\n",
        "        margin-top:12px;\n",
        "        margin-bottom: 3px;\n",
        "       }\n",
        "    div.text_cell_render{\n",
        "        font-family: Computer Modern, \"Helvetica Neue\", Arial, Helvetica, Geneva, sans-serif;\n",
        "        line-height: 145%;\n",
        "        font-size: 120%;\n",
        "        width:800px;\n",
        "        margin-left:auto;\n",
        "        margin-right:auto;\n",
        "    }\n",
        "    .CodeMirror{\n",
        "            font-family: \"Source Code Pro\", source-code-pro,Consolas, monospace;\n",
        "    }\n",
        "    .prompt{\n",
        "        display: None;\n",
        "    }\n",
        "    .text_cell_render h5 {\n",
        "        font-weight: 300;\n",
        "        font-size: 16pt;\n",
        "        color: #4057A1;\n",
        "        font-style: italic;\n",
        "        margin-bottom: .5em;\n",
        "        margin-top: 0.5em;\n",
        "        display: block;\n",
        "    }\n",
        "    \n",
        "    .warning{\n",
        "        color: rgb( 240, 20, 20 )\n",
        "        }\n",
        "\n",
        "    blockquote {\n",
        "    border-left: 4px solid #DDDDDD;\n",
        "    color: #777777;\n",
        "        padding: 0 15px;\n",
        "        }\n",
        "\n",
        "</style>\n",
        "<script>\n",
        "    MathJax.Hub.Config({\n",
        "                        TeX: {\n",
        "                           extensions: [\"AMSmath.js\"]\n",
        "                           },\n",
        "                tex2jax: {\n",
        "                    inlineMath: [ ['$','$'], [\"\\\\(\",\"\\\\)\"] ],\n",
        "                    displayMath: [ ['$$','$$'], [\"\\\\[\",\"\\\\]\"] ]\n",
        "                },\n",
        "                displayAlign: 'center', // Change this to 'center' to center equations.\n",
        "                \"HTML-CSS\": {\n",
        "                    styles: {'.MathJax_Display': {\"margin\": 4}}\n",
        "                }\n",
        "        });\n",
        "</script>"
       ],
       "output_type": "pyout",
       "prompt_number": 1,
       "text": [
        "<IPython.core.display.HTML at 0x10253f9d0>"
       ]
      }
     ],
     "prompt_number": 1
    }
   ],
   "metadata": {}
  }
 ]
}