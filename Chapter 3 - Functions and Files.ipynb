{
 "metadata": {
  "name": "Chapter 3 - Functions and Files"
 },
 "nbformat": 3,
 "nbformat_minor": 0,
 "worksheets": [
  {
   "cells": [
    {
     "cell_type": "heading",
     "level": 1,
     "metadata": {},
     "source": [
      "Chapter 3: Functions and Files"
     ]
    },
    {
     "cell_type": "heading",
     "level": 2,
     "metadata": {},
     "source": [
      "File Input/Output"
     ]
    },
    {
     "cell_type": "markdown",
     "metadata": {},
     "source": [
      "Input for your programs often comes from files on disk, such as 'corpora' (large collections of digital text). Likewise, you often want output to be written back to files on disk as well. Reading and writing files is often an essential part of programming and, lucky, for us, this is really simple in Python. The following example reads a file from disk:"
     ]
    },
    {
     "cell_type": "code",
     "collapsed": false,
     "input": [
      "f = open('data/austen-emma-excerpt.txt', 'rt', encoding='utf-8')\n",
      "text = f.read()\n",
      "f.close()\n",
      "print(text)"
     ],
     "language": "python",
     "metadata": {},
     "outputs": [
      {
       "output_type": "stream",
       "stream": "stdout",
       "text": [
        "Emma by Jane Austen 1816\n",
        "\n",
        "VOLUME I\n",
        "\n",
        "CHAPTER I\n",
        "\n",
        "\n",
        "Emma Woodhouse, handsome, clever, and rich, with a comfortable home\n",
        "and happy disposition, seemed to unite some of the best blessings\n",
        "of existence; and had lived nearly twenty-one years in the world\n",
        "with very little to distress or vex her.\n",
        "\n",
        "She was the youngest of the two daughters of a most affectionate,\n",
        "indulgent father; and had, in consequence of her sister's marriage,\n",
        "been mistress of his house from a very early period.  Her mother\n",
        "had died too long ago for her to have more than an indistinct\n",
        "remembrance of her caresses; and her place had been supplied\n",
        "by an excellent woman as governess, who had fallen little short\n",
        "of a mother in affection.\n"
       ]
      }
     ],
     "prompt_number": 1
    },
    {
     "cell_type": "markdown",
     "metadata": {},
     "source": [
      "We passed three arguments to `open()` function:\n",
      "\n",
      " * the filename to open\n",
      " * the mode, a combination of characters, 'r' represents read-mode, and 't' represent plain text-mode. This indicates we are reading a plain text file.\n",
      " * the last argument, a named argument (encoding), specifies the encoding of the text file."
     ]
    },
    {
     "cell_type": "raw",
     "metadata": {},
     "source": [
      "You may wonder what an encoding is and what *utf-8* is. For anyone working with texts and computers this is vital to know. Internally, a computer knows no letters whatsoever, all are represented as numbers (which in turn are represented in binary as zeroes and ones). An encoding specifies which numbers represent which letters. A famous ancient encoding scheme is ASCII, in which for example the letter 'A' is 65. ASCII however has only very limited spaces and can not encode any other writing systems. A modern-day encoding supporting countless writing systems is unicode, utf-8 is a form of a unicode. This is what we use for our data. Whenever you have a choice, you should use unicode as well!"
     ]
    },
    {
     "cell_type": "markdown",
     "metadata": {},
     "source": [
      "Reading an entire file in one string is not always desireable, especially not with huge files. The following example reads up until a newline everytime, and returns one line at a time. \n"
     ]
    },
    {
     "cell_type": "code",
     "collapsed": false,
     "input": [
      "f = open('data/austen-emma-excerpt.txt','rt', encoding='utf-8')\n",
      "for line in f:\n",
      "    print(line)\n",
      "f.close()"
     ],
     "language": "python",
     "metadata": {},
     "outputs": []
    },
    {
     "cell_type": "markdown",
     "metadata": {},
     "source": [
      "The 'newline' character is probably something new to you. If you are dealing with plain text files (e.g. files whose name that ends in the '.txt' extension), your machine uses a special character internally to signal that a . Internally, such newlines are represented as `\"\\n\"`. This character is visualized as if enter was pressed. See what happens below: "
     ]
    },
    {
     "cell_type": "code",
     "collapsed": false,
     "input": [
      "s = \"This is the first line.\\nThis is the second line.\"\n",
      "print(s)"
     ],
     "language": "python",
     "metadata": {},
     "outputs": [
      {
       "output_type": "stream",
       "stream": "stdout",
       "text": [
        "This is the first line.\n",
        "This is the second line.\n"
       ]
      }
     ],
     "prompt_number": 2
    },
    {
     "cell_type": "markdown",
     "metadata": {},
     "source": [
      "There exists a similar character to encode 'tab' characters, namely `\\t`. You can use this character to play around with the indentation of your output:\n"
     ]
    },
    {
     "cell_type": "code",
     "collapsed": false,
     "input": [
      "s = \"First line\\n\\t* Second line\\n\\t* Third line\\n\\t* Fourth line\\nFifth line\"\n",
      "print(s)"
     ],
     "language": "python",
     "metadata": {},
     "outputs": [
      {
       "output_type": "stream",
       "stream": "stdout",
       "text": [
        "First line\n",
        "\t* Second line\n",
        "\t* Third line\n",
        "\t* Fourth line\n",
        "Fifth line\n"
       ]
      }
     ],
     "prompt_number": 6
    },
    {
     "cell_type": "markdown",
     "metadata": {},
     "source": [
      "In the code block above in which you read the Austen file, the newline is still included with of the original lines that you read from the file: this is why you see all the extra empty lines in the output above! If you wish to remove all preceding and trailing whitespace in a string (newlines, spaces, but also tabs), you can use the `strip()` function:"
     ]
    },
    {
     "cell_type": "code",
     "collapsed": false,
     "input": [
      "s = \"   strip me!    \"\n",
      "print(s.strip())"
     ],
     "language": "python",
     "metadata": {},
     "outputs": []
    },
    {
     "cell_type": "markdown",
     "metadata": {},
     "source": [
      "Now, try to adapt the code that read in the Austen file and have your code print each line without the preceding and trailing whitespace! Have the \"double lines\" disappeared in your output? "
     ]
    },
    {
     "cell_type": "code",
     "collapsed": false,
     "input": [
      "f = open('data/austen-emma-excerpt.txt','rt', encoding='utf-8')\n",
      "for line in f:\n",
      "    print(line)\n",
      "f.close()"
     ],
     "language": "python",
     "metadata": {},
     "outputs": []
    },
    {
     "cell_type": "markdown",
     "metadata": {},
     "source": [
      "Rather than just printing it, we can of course do whatever we want with this file's content. Let's count the number of lines. Do note that a line need not correspond with a sentence!"
     ]
    },
    {
     "cell_type": "code",
     "collapsed": false,
     "input": [
      "count = 0\n",
      "f = open('data/austen-emma-excerpt.txt', 'rt', encoding='utf-8')\n",
      "for line in f:\n",
      "    count += 1\n",
      "f.close()\n",
      "print(count)"
     ],
     "language": "python",
     "metadata": {},
     "outputs": []
    },
    {
     "cell_type": "heading",
     "level": 4,
     "metadata": {},
     "source": [
      "Quiz"
     ]
    },
    {
     "cell_type": "markdown",
     "metadata": {},
     "source": [
      "Read the file `data/austen-emma-excerpt.txt` and compute the average length (in characters) of each line."
     ]
    },
    {
     "cell_type": "code",
     "collapsed": false,
     "input": [
      "f = open('data/austen-emma-excerpt.txt', 'rt', encoding='utf-8')\n",
      "# insert your code here\n",
      "# important: always remeber to properly close your files again!"
     ],
     "language": "python",
     "metadata": {},
     "outputs": []
    },
    {
     "cell_type": "markdown",
     "metadata": {},
     "source": [
      "- - -"
     ]
    },
    {
     "cell_type": "markdown",
     "metadata": {},
     "source": [
      "Now we mastered the art of reading files, let's move on to writing files, which follows a similar structure:"
     ]
    },
    {
     "cell_type": "code",
     "collapsed": false,
     "input": [
      "f = open('data/testoutput.txt', 'wt', encoding='utf-8')\n",
      "f.write(\"Hello world!\")\n",
      "f.close()"
     ],
     "language": "python",
     "metadata": {},
     "outputs": []
    },
    {
     "cell_type": "markdown",
     "metadata": {},
     "source": [
      "With this code block, we automatically created a new file called `testoutput.txt` in the `data` directory. We then wrote a single line to this file and then we closed it. Note that the `w` in `wt` is a crucial addition: if you would have left this out, Python would have opened the file in 'readonly' and you wouldn't have been able to write to it!"
     ]
    },
    {
     "cell_type": "markdown",
     "metadata": {},
     "source": [
      "If you want data on multiple lines, you need to take care to explicitly encode the newlines. Instead of:\n",
      "    "
     ]
    },
    {
     "cell_type": "code",
     "collapsed": false,
     "input": [
      "f = open('data/testouput.txt','wt', encoding='utf-8')\n",
      "f.write(\"Hello world on the first line!\")\n",
      "f.write(\"Hello world on the second line!\")\n",
      "f.close()"
     ],
     "language": "python",
     "metadata": {},
     "outputs": []
    },
    {
     "cell_type": "markdown",
     "metadata": {},
     "source": [
      "You need to write:"
     ]
    },
    {
     "cell_type": "code",
     "collapsed": false,
     "input": [
      "f = open('data/testoutput.txt','wt', encoding='utf-8')\n",
      "f.write(\"Hello world on the first line!\\n\")\n",
      "f.write(\"Hello world on the second line!\")\n",
      "f.close()"
     ],
     "language": "python",
     "metadata": {},
     "outputs": []
    },
    {
     "cell_type": "markdown",
     "metadata": {},
     "source": [
      "Otherwise your file would have `Hello world!Hello world!` in it."
     ]
    },
    {
     "cell_type": "markdown",
     "metadata": {},
     "source": [
      "Besides read-mode and write-mode, there is also append-mode. Write-mode would overwrite any existing file, append-mode adds to the end of the file. For enbaling the append mode, you need to specify `'at'` as your second parameter when you open files."
     ]
    },
    {
     "cell_type": "heading",
     "level": 4,
     "metadata": {},
     "source": [
      "Exercise"
     ]
    },
    {
     "cell_type": "markdown",
     "metadata": {},
     "source": [
      "Read the file `data/austen-emma-excerpt-tokenised.txt`, and write to a file `words.txt` all words occuring in this text (without duplicates!!), alphabetically ordered, one word per line. That way, you are really creating a lexicon or word list of the text. (Tip: you should use sets in this exercise!)"
     ]
    },
    {
     "cell_type": "code",
     "collapsed": false,
     "input": [
      "# insert your code here"
     ],
     "language": "python",
     "metadata": {},
     "outputs": []
    },
    {
     "cell_type": "markdown",
     "metadata": {},
     "source": [
      "Check your output by viewing the `words.txt` file in a text editor such as Sublime Text 2. (Windows users: do not use Notepad!)"
     ]
    },
    {
     "cell_type": "markdown",
     "metadata": {},
     "source": [
      "---"
     ]
    },
    {
     "cell_type": "heading",
     "level": 2,
     "metadata": {},
     "source": [
      "Importing external modules"
     ]
    },
    {
     "cell_type": "markdown",
     "metadata": {},
     "source": [
      "Most of the functionality we have used thus far, is simply built into the Python language itself. Often however you need to use external modules in your code. A lot of external modules are already available in the Python Standard Library, for a wide variety of tasks. There are also countless third-party providers of Python modules. \n",
      "\n",
      "To use an external module in your code you need to explicitly 'import' it. Consider for example the module `random` from the standard library, which contains functions for generating random numbers:"
     ]
    },
    {
     "cell_type": "code",
     "collapsed": false,
     "input": [
      "import random\n",
      "print(random.randint(0, 100))"
     ],
     "language": "python",
     "metadata": {},
     "outputs": []
    },
    {
     "cell_type": "markdown",
     "metadata": {},
     "source": [
      "You can import an entire module or import only a specific function in the module. We could also have imported the (single) function we needed as follows:"
     ]
    },
    {
     "cell_type": "code",
     "collapsed": false,
     "input": [
      "from random import randint\n",
      "print(randint(0, 100))"
     ],
     "language": "python",
     "metadata": {},
     "outputs": []
    },
    {
     "cell_type": "markdown",
     "metadata": {},
     "source": [
      "You can even change the names of the functions you import:"
     ]
    },
    {
     "cell_type": "code",
     "collapsed": false,
     "input": [
      "from random import randint as gimme_a_random_number_please\n",
      "print(gimme_a_random_number_please(0, 100))"
     ],
     "language": "python",
     "metadata": {},
     "outputs": []
    },
    {
     "cell_type": "markdown",
     "metadata": {},
     "source": [
      "---"
     ]
    },
    {
     "cell_type": "heading",
     "level": 2,
     "metadata": {},
     "source": [
      "Functions"
     ]
    },
    {
     "cell_type": "markdown",
     "metadata": {},
     "source": [
      "In this chapter you have already seen lots of functions. A function does something, often based on some input you pass to it, and generally returns a result. You are not just limited to using functions available from in the standard library or the ones provided by external parties. You can also write your own functions!\n",
      "\n",
      "In fact, you *must* write your own functions. Separating your problem into sub-problems and writing a function for each of those is an immensely important part of well-structured programming. In the rest of this chapter we will teach you how to write your own functions and how to import and re-use these functions in other, new scripts you write!\n",
      "\n",
      "Let's start off with a trivial function. Functions are defined using the `def` keyword, followed by the name you want your function to have and (optionally!) the names of parameters that your function might take. \n",
      "\n",
      "    def some_name(optional_parameters):\n",
      "        # here goes your functionality\n",
      "        return my_result\n",
      "\n",
      "The `return` statement returns a value back to the caller and always ends the execution of the function."
     ]
    },
    {
     "cell_type": "code",
     "collapsed": false,
     "input": [
      "def multiply(x, y):\n",
      "    result = x * y\n",
      "    return result\n",
      "\n",
      "# or in shorthand\n",
      "\n",
      "def multiply(x, y):\n",
      "    return x*y\n",
      "\n",
      "# now that you defined this function, you can use it in the rest of your code:\n",
      "z = multiply(2, 5)\n",
      "print(z)"
     ],
     "language": "python",
     "metadata": {},
     "outputs": []
    },
    {
     "cell_type": "markdown",
     "metadata": {},
     "source": [
      "Now, let's define a more advanced function. The following function `count_articles()` counts the number of articles (*the*, *a*, *an*) in a list of words. The words are passed to the function as a list of strings. Note that the function itself lowercases the words, so that you never have to take care of this again in the rest of your code! Can you change `count_articles()` in such a manner that it will now accept the entire string and splits it into tokens internally? That way, the user of a function wouldn't have to care about this!"
     ]
    },
    {
     "cell_type": "code",
     "collapsed": false,
     "input": [
      "def count_articles(tokens):\n",
      "    count = 0\n",
      "    for token in tokens:\n",
      "        if token.lower() in ('the', 'a', 'an'):\n",
      "            count += 1\n",
      "    return count\n",
      "   \n",
      "text = \"A bit less trivial , this function counts the number of articles ( the , a , an ) in a list of words\"\n",
      "words = text.split()\n",
      "print(count_articles(words))"
     ],
     "language": "python",
     "metadata": {},
     "outputs": [
      {
       "output_type": "stream",
       "stream": "stdout",
       "text": [
        "6\n"
       ]
      }
     ],
     "prompt_number": 10
    },
    {
     "cell_type": "markdown",
     "metadata": {},
     "source": [
      "We can also have a function return multiple values by combining them in a tuple (the type of ordered, immutable list we talked about in the previous chapter!). Python has a nice way of 'unpacking' such a tuple in assignment. We have seen a similar construction in the **for** loop with `enumerate()` and `zip()`:"
     ]
    },
    {
     "cell_type": "code",
     "collapsed": false,
     "input": [
      "def count(text):\n",
      "    words = text.split(\" \")\n",
      "    word_count = len(words)\n",
      "    character_count = len(text)\n",
      "    return word_count, character_count\n",
      "\n",
      "word_count, character_count = count(\"To be or not to be , that is the question .\")\n",
      "print(word_count)\n",
      "print(character_count)"
     ],
     "language": "python",
     "metadata": {},
     "outputs": []
    },
    {
     "cell_type": "heading",
     "level": 5,
     "metadata": {},
     "source": [
      "Variable scope"
     ]
    },
    {
     "cell_type": "markdown",
     "metadata": {},
     "source": [
      "Any variables you declare in a function, as well as the parameters that are passed to a function will only exist within the 'scope' of that function, i.e. inside the function itself. The following code will produce an error, because the variable `x` does not exist outside the function:"
     ]
    },
    {
     "cell_type": "code",
     "collapsed": false,
     "input": [
      "def setx():\n",
      "    x = 1\n",
      "\n",
      "setx()\n",
      "print(x)"
     ],
     "language": "python",
     "metadata": {},
     "outputs": []
    },
    {
     "cell_type": "markdown",
     "metadata": {},
     "source": [
      "Also consider this:\n",
      "    "
     ]
    },
    {
     "cell_type": "code",
     "collapsed": false,
     "input": [
      "x = 0\n",
      "def setx():\n",
      "    x = 1\n",
      "setx()\n",
      "print(x)"
     ],
     "language": "python",
     "metadata": {},
     "outputs": [
      {
       "output_type": "stream",
       "stream": "stdout",
       "text": [
        "0\n"
       ]
      }
     ],
     "prompt_number": 11
    },
    {
     "cell_type": "markdown",
     "metadata": {},
     "source": [
      "In fact, this code has produced two completely unrelated `x`'s!"
     ]
    },
    {
     "cell_type": "markdown",
     "metadata": {},
     "source": [
      "Nevertheless, it is possible to read a global variable from within a function, in a strictly read-only fashion. But as soon as you assign something, the variable will be a local copy:"
     ]
    },
    {
     "cell_type": "code",
     "collapsed": false,
     "input": [
      "x = 1\n",
      "def getx():\n",
      "    print(x)\n",
      "    \n",
      "getx()"
     ],
     "language": "python",
     "metadata": {},
     "outputs": []
    },
    {
     "cell_type": "heading",
     "level": 4,
     "metadata": {},
     "source": [
      "Exercise"
     ]
    },
    {
     "cell_type": "markdown",
     "metadata": {},
     "source": [
      "Write a function `calculate_average(numbers)`, taking one parameter, a list (or other iterable) containing only numbers (you may assume that), and returning the average/mean:"
     ]
    },
    {
     "cell_type": "code",
     "collapsed": false,
     "input": [
      "# write your function calculate_average here\n",
      "\n",
      "# do not modify the code below, for testing only\n",
      "numbers = [1, 2, 3, 4, 5]\n",
      "av = calculate_average(numbers)\n",
      "assert av == 3 # should be True if you did it correctly"
     ],
     "language": "python",
     "metadata": {},
     "outputs": [],
     "prompt_number": 2
    },
    {
     "cell_type": "heading",
     "level": 4,
     "metadata": {},
     "source": [
      "Bonus Exercise"
     ]
    },
    {
     "cell_type": "markdown",
     "metadata": {},
     "source": [
      "Write a function `textstats(filename)` that, given a filename to load return a three-tuple with the following general statistics on the file: number of lines, number of words/tokens, number of characters. Don't worry about tokenisation: you can just split the words along whitespace.\n"
     ]
    },
    {
     "cell_type": "code",
     "collapsed": false,
     "input": [
      "# write your function textstats here "
     ],
     "language": "python",
     "metadata": {},
     "outputs": []
    },
    {
     "cell_type": "heading",
     "level": 2,
     "metadata": {},
     "source": [
      "How to import your own functions in another script?!\n",
      "How to use Sublime?!\n",
      "How to call Python from the Command Line?!"
     ]
    },
    {
     "cell_type": "markdown",
     "metadata": {},
     "source": [
      "---"
     ]
    },
    {
     "cell_type": "markdown",
     "metadata": {},
     "source": [
      "Ignore this, it's only here to make the page pretty:"
     ]
    },
    {
     "cell_type": "code",
     "collapsed": false,
     "input": [
      "from IPython.core.display import HTML\n",
      "def css_styling():\n",
      "    styles = open(\"styles/custom.css\", \"r\").read()\n",
      "    return HTML(styles)\n",
      "css_styling()"
     ],
     "language": "python",
     "metadata": {},
     "outputs": [
      {
       "html": [
        "<style>\n",
        "    @font-face {\n",
        "        font-family: \"Computer Modern\";\n",
        "        src: url('http://mirrors.ctan.org/fonts/cm-unicode/fonts/otf/cmunss.otf');\n",
        "    }\n",
        "    div.cell {\n",
        "        width:800px;\n",
        "        margin-left:auto;\n",
        "        margin-right:auto;\n",
        "    }\n",
        "    div.cell, .input.hbox {\n",
        "    display:block;\n",
        "}\n",
        "    h1 {\n",
        "        font-family: \"Charis SIL\", Palatino, serif;\n",
        "    }\n",
        "    h4{\n",
        "        margin-top:12px;\n",
        "        margin-bottom: 3px;\n",
        "       }\n",
        "    div.text_cell_render{\n",
        "        font-family: Computer Modern, \"Helvetica Neue\", Arial, Helvetica, Geneva, sans-serif;\n",
        "        line-height: 145%;\n",
        "        font-size: 120%;\n",
        "        width:800px;\n",
        "        margin-left:auto;\n",
        "        margin-right:auto;\n",
        "    }\n",
        "    .CodeMirror{\n",
        "            font-family: \"Source Code Pro\", source-code-pro,Consolas, monospace;\n",
        "    }\n",
        "    .prompt{\n",
        "        display: None;\n",
        "    }\n",
        "    .text_cell_render h5 {\n",
        "        font-weight: 300;\n",
        "        font-size: 16pt;\n",
        "        color: #4057A1;\n",
        "        font-style: italic;\n",
        "        margin-bottom: .5em;\n",
        "        margin-top: 0.5em;\n",
        "        display: block;\n",
        "    }\n",
        "    \n",
        "    .warning{\n",
        "        color: rgb( 240, 20, 20 )\n",
        "        }\n",
        "</style>\n",
        "<script>\n",
        "    MathJax.Hub.Config({\n",
        "                        TeX: {\n",
        "                           extensions: [\"AMSmath.js\"]\n",
        "                           },\n",
        "                tex2jax: {\n",
        "                    inlineMath: [ ['$','$'], [\"\\\\(\",\"\\\\)\"] ],\n",
        "                    displayMath: [ ['$$','$$'], [\"\\\\[\",\"\\\\]\"] ]\n",
        "                },\n",
        "                displayAlign: 'center', // Change this to 'center' to center equations.\n",
        "                \"HTML-CSS\": {\n",
        "                    styles: {'.MathJax_Display': {\"margin\": 4}}\n",
        "                }\n",
        "        });\n",
        "</script>"
       ],
       "output_type": "pyout",
       "prompt_number": 1,
       "text": [
        "<IPython.core.display.HTML at 0x10780fe50>"
       ]
      }
     ],
     "prompt_number": 1
    }
   ],
   "metadata": {}
  }
 ]
}