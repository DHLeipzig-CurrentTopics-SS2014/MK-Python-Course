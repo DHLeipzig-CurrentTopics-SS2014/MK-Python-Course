{
 "metadata": {
  "name": "Python Cheat Sheet"
 },
 "nbformat": 3,
 "nbformat_minor": 0,
 "worksheets": [
  {
   "cells": [
    {
     "cell_type": "markdown",
     "metadata": {},
     "source": [
      "# Python Cheat Sheet"
     ]
    },
    {
     "cell_type": "markdown",
     "metadata": {},
     "source": [
      "In this sheet you can add step-by-step everything you learn about Python during our course.\n",
      "Try to be as concise as possible, sometimes it is more important to find an information than to read through documentation. "
     ]
    },
    {
     "cell_type": "code",
     "collapsed": false,
     "input": [],
     "language": "python",
     "metadata": {},
     "outputs": []
    }
   ],
   "metadata": {}
  }
 ]
}